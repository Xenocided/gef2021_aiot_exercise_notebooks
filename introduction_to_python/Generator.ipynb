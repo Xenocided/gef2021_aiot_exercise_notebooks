{
 "cells": [
  {
   "cell_type": "code",
   "execution_count": 1,
   "id": "5209152c",
   "metadata": {},
   "outputs": [],
   "source": [
    "def prime(r=100):\n",
    "    for n in range(2, r+1):\n",
    "        flag = False\n",
    "        if n > 1:\n",
    "            for i in range(2, n):\n",
    "                if (n % i) == 0:\n",
    "                    flag = True\n",
    "                    break\n",
    "        if not flag:\n",
    "            yield(n)"
   ]
  },
  {
   "cell_type": "code",
   "execution_count": 2,
   "id": "32374b6d",
   "metadata": {},
   "outputs": [],
   "source": [
    "x = prime()"
   ]
  },
  {
   "cell_type": "code",
   "execution_count": 7,
   "id": "d5e755ad",
   "metadata": {},
   "outputs": [],
   "source": [
    "def rungen(gen):\n",
    "    ls = []\n",
    "    flag = True\n",
    "    while flag:\n",
    "        try:\n",
    "            ls.append(next(gen))\n",
    "        except:\n",
    "            flag = False\n",
    "    return ls"
   ]
  },
  {
   "cell_type": "code",
   "execution_count": 9,
   "id": "dfbb30ca",
   "metadata": {},
   "outputs": [
    {
     "name": "stdout",
     "output_type": "stream",
     "text": [
      "[]\n"
     ]
    }
   ],
   "source": [
    "print(rungen(x))"
   ]
  },
  {
   "cell_type": "code",
   "execution_count": null,
   "id": "d11bbeb4",
   "metadata": {},
   "outputs": [],
   "source": []
  }
 ],
 "metadata": {
  "kernelspec": {
   "display_name": "Python 3 (ipykernel)",
   "language": "python",
   "name": "python3"
  },
  "language_info": {
   "codemirror_mode": {
    "name": "ipython",
    "version": 3
   },
   "file_extension": ".py",
   "mimetype": "text/x-python",
   "name": "python",
   "nbconvert_exporter": "python",
   "pygments_lexer": "ipython3",
   "version": "3.9.7"
  }
 },
 "nbformat": 4,
 "nbformat_minor": 5
}
