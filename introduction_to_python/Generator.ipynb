{
  "cells": [
    {
      "cell_type": "code",
      "execution_count": 10,
      "id": "5209152c",
      "metadata": {
        "id": "5209152c"
      },
      "outputs": [],
      "source": [
        "def prime(r=100):\n",
        "    for n in range(2, r+1):\n",
        "        flag = False\n",
        "        if n > 1:\n",
        "            for i in range(2, n):\n",
        "                if (n % i) == 0:\n",
        "                    flag = True\n",
        "                    break\n",
        "        if not flag:\n",
        "            yield(n)"
      ]
    },
    {
      "cell_type": "code",
      "execution_count": 12,
      "id": "d5e755ad",
      "metadata": {
        "id": "d5e755ad"
      },
      "outputs": [],
      "source": [
        "def rungen(genr, *stuff):\n",
        "    gen = genr(*stuff)\n",
        "    ls = []\n",
        "    flag = True\n",
        "    while flag:\n",
        "        try:\n",
        "            ls.append(next(gen))\n",
        "        except:\n",
        "            flag = False\n",
        "    return ls"
      ]
    }
  ],
  "metadata": {
    "kernelspec": {
      "display_name": "Python 3 (ipykernel)",
      "language": "python",
      "name": "python3"
    },
    "language_info": {
      "codemirror_mode": {
        "name": "ipython",
        "version": 3
      },
      "file_extension": ".py",
      "mimetype": "text/x-python",
      "name": "python",
      "nbconvert_exporter": "python",
      "pygments_lexer": "ipython3",
      "version": "3.9.7"
    },
    "colab": {
      "name": "Generator.ipynb",
      "provenance": []
    }
  },
  "nbformat": 4,
  "nbformat_minor": 5
}