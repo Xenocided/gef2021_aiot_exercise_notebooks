{
 "cells": [
  {
   "cell_type": "markdown",
   "metadata": {
    "id": "I2KP5gAzZ9U6"
   },
   "source": [
    "# Exercise 1"
   ]
  },
  {
   "cell_type": "code",
   "execution_count": 1,
   "metadata": {
    "id": "G44U1WpZZ9U-"
   },
   "outputs": [
    {
     "name": "stdout",
     "output_type": "stream",
     "text": [
      "What is your name?\n",
      "Mary\n",
      "Hi,Mary\n"
     ]
    }
   ],
   "source": [
    "name = input('What is your name?\\n')\n",
    "print('Hi,'+name)"
   ]
  },
  {
   "cell_type": "markdown",
   "metadata": {
    "id": "OL_g0JKfZ9VE"
   },
   "source": [
    "# Exercise2"
   ]
  },
  {
   "cell_type": "code",
   "execution_count": 2,
   "metadata": {
    "id": "9QWTc4XbZ9VF"
   },
   "outputs": [
    {
     "name": "stdout",
     "output_type": "stream",
     "text": [
      "False\n",
      "True\n",
      "True\n",
      "False\n",
      "True\n",
      "True\n"
     ]
    }
   ],
   "source": [
    "print(bool(''))\n",
    "print(bool('abc'))\n",
    "print(bool(1))\n",
    "print(bool(0))\n",
    "print(bool('0'))\n",
    "print(bool('$#%@#$%'))"
   ]
  },
  {
   "cell_type": "markdown",
   "metadata": {
    "id": "of0fLQn7Z9VM"
   },
   "source": [
    "# Exercise3\n"
   ]
  },
  {
   "cell_type": "code",
   "execution_count": 3,
   "metadata": {
    "id": "kIFZzB0LZ9VN"
   },
   "outputs": [
    {
     "ename": "TypeError",
     "evalue": "unsupported operand type(s) for +: 'float' and 'str'",
     "output_type": "error",
     "traceback": [
      "\u001b[1;31m---------------------------------------------------------------------------\u001b[0m",
      "\u001b[1;31mTypeError\u001b[0m                                 Traceback (most recent call last)",
      "\u001b[1;32m<ipython-input-3-760f8ae6694a>\u001b[0m in \u001b[0;36m<module>\u001b[1;34m\u001b[0m\n\u001b[0;32m      2\u001b[0m \u001b[0mb\u001b[0m \u001b[1;33m=\u001b[0m \u001b[1;34m'456.78'\u001b[0m\u001b[1;33m\u001b[0m\u001b[1;33m\u001b[0m\u001b[0m\n\u001b[0;32m      3\u001b[0m \u001b[1;33m\u001b[0m\u001b[0m\n\u001b[1;32m----> 4\u001b[1;33m \u001b[0ma\u001b[0m \u001b[1;33m+\u001b[0m \u001b[0mb\u001b[0m\u001b[1;33m\u001b[0m\u001b[1;33m\u001b[0m\u001b[0m\n\u001b[0m",
      "\u001b[1;31mTypeError\u001b[0m: unsupported operand type(s) for +: 'float' and 'str'"
     ]
    }
   ],
   "source": [
    "a = 123.45\n",
    "b = '456.78'\n",
    "\n",
    "a + b"
   ]
  },
  {
   "cell_type": "code",
   "execution_count": 5,
   "metadata": {},
   "outputs": [
    {
     "data": {
      "text/plain": [
       "580.23"
      ]
     },
     "execution_count": 5,
     "metadata": {},
     "output_type": "execute_result"
    }
   ],
   "source": [
    "a + float(b)"
   ]
  },
  {
   "cell_type": "markdown",
   "metadata": {
    "id": "6mq1UBS9Z9VU"
   },
   "source": [
    "# Exercise4"
   ]
  },
  {
   "cell_type": "code",
   "execution_count": 6,
   "metadata": {
    "id": "W_kwTE6OZ9VV"
   },
   "outputs": [
    {
     "name": "stdout",
     "output_type": "stream",
     "text": [
      "Sum: 210\n",
      "Mean: 70.0\n"
     ]
    }
   ],
   "source": [
    "john = 60 \n",
    "matt = 70\n",
    "brian = 80\n",
    "\n",
    "sum = john + matt + brian\n",
    "\n",
    "print('Sum:', sum)\n",
    "print('Mean:', sum/3)"
   ]
  },
  {
   "cell_type": "markdown",
   "metadata": {
    "id": "9lrFLnwRZ9VY"
   },
   "source": [
    "# Exercise 5"
   ]
  },
  {
   "cell_type": "code",
   "execution_count": 7,
   "metadata": {
    "id": "rMOhYZejZ9VZ"
   },
   "outputs": [
    {
     "name": "stdout",
     "output_type": "stream",
     "text": [
      "x == y: True\n",
      "x is y: False\n"
     ]
    }
   ],
   "source": [
    "x = 0.1\n",
    "y = 0.1\n",
    "\n",
    "print('x == y:', x == y)\n",
    "print('x is y:', x is y)"
   ]
  },
  {
   "cell_type": "markdown",
   "metadata": {
    "id": "Fj5Mxf5UZ9Vd"
   },
   "source": [
    "# Exercise 6"
   ]
  },
  {
   "cell_type": "code",
   "execution_count": 8,
   "metadata": {
    "id": "TU1zRHOLZ9Vf"
   },
   "outputs": [],
   "source": [
    "sentence = 'Beautiful is better than ugly. Explicit is better than implicit'"
   ]
  },
  {
   "cell_type": "code",
   "execution_count": 9,
   "metadata": {
    "id": "sA7etwODLN61"
   },
   "outputs": [
    {
     "data": {
      "text/plain": [
       "'Explicit'"
      ]
     },
     "execution_count": 9,
     "metadata": {},
     "output_type": "execute_result"
    }
   ],
   "source": [
    "sentence.split('.')[1].split()[0]"
   ]
  },
  {
   "cell_type": "code",
   "execution_count": 10,
   "metadata": {},
   "outputs": [
    {
     "name": "stdout",
     "output_type": "stream",
     "text": [
      "No. of characters: 63\n",
      "No. of words: 10\n"
     ]
    }
   ],
   "source": [
    "print('No. of characters:', len(sentence))\n",
    "print('No. of words:', len(sentence.split()))"
   ]
  },
  {
   "cell_type": "markdown",
   "metadata": {
    "id": "iDG62IqhZ9Vn"
   },
   "source": [
    "# Exercise7"
   ]
  },
  {
   "cell_type": "code",
   "execution_count": 11,
   "metadata": {
    "id": "-BpuGBxKZ9Vo"
   },
   "outputs": [
    {
     "name": "stdout",
     "output_type": "stream",
     "text": [
      "<class 'int'>\n"
     ]
    }
   ],
   "source": [
    "number = (1)\n",
    "print(type(number))"
   ]
  },
  {
   "cell_type": "code",
   "execution_count": 12,
   "metadata": {},
   "outputs": [
    {
     "name": "stdout",
     "output_type": "stream",
     "text": [
      "<class 'tuple'>\n"
     ]
    }
   ],
   "source": [
    "number = (1,)\n",
    "print(type(number))"
   ]
  },
  {
   "cell_type": "markdown",
   "metadata": {
    "id": "zZGm0kx5Z9Vs"
   },
   "source": [
    "# Exercise8"
   ]
  },
  {
   "cell_type": "code",
   "execution_count": 13,
   "metadata": {
    "id": "fhFtP0NMZ9Vt"
   },
   "outputs": [
    {
     "name": "stdout",
     "output_type": "stream",
     "text": [
      "Peter\n",
      "{'name': 'Peter', 'age': 22}\n"
     ]
    }
   ],
   "source": [
    "student = {'name': 'Mary', 'age': 22, 'name': 'Peter'}\n",
    "print(student['name'])\n",
    "print(student)"
   ]
  },
  {
   "cell_type": "markdown",
   "metadata": {
    "id": "ng9CbysaZ9Vw"
   },
   "source": [
    "# Exercise9"
   ]
  },
  {
   "cell_type": "code",
   "execution_count": 14,
   "metadata": {
    "id": "8x_4z2U0Z9Vy"
   },
   "outputs": [
    {
     "name": "stdout",
     "output_type": "stream",
     "text": [
      "Please enter a phone number:  1234\n",
      "It is not a valid number\n"
     ]
    }
   ],
   "source": [
    "number_in=input(\"Please enter a phone number:  \")\n",
    "\n",
    "#print(\"The input number is \"+number_in)\n",
    "\n",
    "first_digit=\"23569\"\n",
    "if len(number_in)==8 and (number_in[0] in first_digit) and number_in.isdigit():\n",
    "    print(\"It is a valid number\")\n",
    "else:\n",
    "    print(\"It is not a valid number\")\n"
   ]
  },
  {
   "cell_type": "markdown",
   "metadata": {
    "id": "FH80WJizZ9V0"
   },
   "source": [
    "# Exercise10"
   ]
  },
  {
   "cell_type": "code",
   "execution_count": 15,
   "metadata": {
    "id": "7SLb0xcYZ9V1"
   },
   "outputs": [
    {
     "name": "stdout",
     "output_type": "stream",
     "text": [
      "11 13 15 17 19 21 23 25 "
     ]
    }
   ],
   "source": [
    "for i in range(11,26,2):\n",
    "    print(i, end=' ')"
   ]
  },
  {
   "cell_type": "markdown",
   "metadata": {
    "id": "F6_d7iGHYegB"
   },
   "source": [
    "# Exercise11\n"
   ]
  },
  {
   "cell_type": "code",
   "execution_count": 16,
   "metadata": {},
   "outputs": [
    {
     "name": "stdout",
     "output_type": "stream",
     "text": [
      "Please enter a phone number:  9876543\n",
      "The input number is 9876543\n",
      "It is not a valid number\n",
      "Please enter a phone number:  2345\n",
      "The input number is 2345\n",
      "It is not a valid number\n",
      "Please enter a phone number:  12345678\n",
      "The input number is 12345678\n",
      "It is not a valid number\n",
      "Please enter a phone number:  2xxxxxxx\n",
      "The input number is 2xxxxxxx\n",
      "It is not a valid number\n",
      "Please enter a phone number:  23456789\n",
      "The input number is 23456789\n",
      "It is a valid number\n"
     ]
    }
   ],
   "source": [
    "number_in=input(\"Please enter a phone number:  \")\n",
    "print(\"The input number is \"+number_in)\n",
    "\n",
    "first_digit=\"23569\"\n",
    "\n",
    "\n",
    "while not (len(number_in)==8 and (number_in[0] in first_digit) and number_in.isdigit()):\n",
    "    # case1: not valid phone no.\n",
    "    print(\"It is not a valid number\")\n",
    "    number_in = input(\"Please enter a phone number:  \")\n",
    "    print(\"The input number is \"+number_in)\n",
    "\n",
    "    \n",
    "# case2: valid phone no.\n",
    "print(\"It is a valid number\")\n"
   ]
  },
  {
   "cell_type": "markdown",
   "metadata": {},
   "source": [
    "# Exercise12"
   ]
  },
  {
   "cell_type": "code",
   "execution_count": 17,
   "metadata": {
    "id": "Ki5FT_M_YhOz"
   },
   "outputs": [
    {
     "name": "stdout",
     "output_type": "stream",
     "text": [
      "arr before sorting: [5, 3, 8, 7, 1]\n",
      "arr after sorting: [1, 3, 5, 7, 8]\n"
     ]
    }
   ],
   "source": [
    "import numpy as np\n",
    "\n",
    "arr = [5,3,8,7,1]\n",
    "#arr = np.random.randint(0,1000,10) #Uncommment this line to generate an array of random integers\n",
    "\n",
    "print('arr before sorting:', arr)\n",
    "\n",
    "#====================================================\n",
    "#Write your insertion sort here\n",
    "\n",
    "\n",
    "for i in range(1,len(arr)):\n",
    "    j = i\n",
    "    while j>0 and arr[j-1]>arr[j]:\n",
    "        #swap\n",
    "        arr[j-1], arr[j] = arr[j], arr[j-1]\n",
    "        j -= 1\n",
    "\n",
    "\n",
    "#====================================================\n",
    "\n",
    "print('arr after sorting:', arr)"
   ]
  },
  {
   "cell_type": "code",
   "execution_count": null,
   "metadata": {
    "id": "FhnlHbOglAn-"
   },
   "outputs": [],
   "source": []
  }
 ],
 "metadata": {
  "colab": {
   "collapsed_sections": [],
   "name": "Intro_to_Python1_exercise.ipynb",
   "provenance": []
  },
  "kernelspec": {
   "display_name": "Python 3",
   "language": "python",
   "name": "python3"
  },
  "language_info": {
   "codemirror_mode": {
    "name": "ipython",
    "version": 3
   },
   "file_extension": ".py",
   "mimetype": "text/x-python",
   "name": "python",
   "nbconvert_exporter": "python",
   "pygments_lexer": "ipython3",
   "version": "3.8.3"
  }
 },
 "nbformat": 4,
 "nbformat_minor": 1
}
