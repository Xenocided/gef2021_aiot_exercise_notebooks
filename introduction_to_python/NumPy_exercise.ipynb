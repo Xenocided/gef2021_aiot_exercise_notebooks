{
 "cells": [
  {
   "cell_type": "markdown",
   "metadata": {},
   "source": [
    "# Import required packages"
   ]
  },
  {
   "cell_type": "code",
   "execution_count": 1,
   "metadata": {
    "id": "Nx1ZIFazsDA9"
   },
   "outputs": [],
   "source": [
    "import numpy as np\n",
    "from matplotlib import pyplot as plt\n",
    "plt.style.use('seaborn')"
   ]
  },
  {
   "cell_type": "markdown",
   "metadata": {},
   "source": [
    "# Exercise 1"
   ]
  },
  {
   "cell_type": "code",
   "execution_count": 5,
   "metadata": {},
   "outputs": [
    {
     "name": "stdout",
     "output_type": "stream",
     "text": [
      "a before: \n",
      " [0, 1, 2, 3, 4, 5]\n",
      "b before: \n",
      " [1, 2, 3]\n",
      "a after: \n",
      " [0, 1, 2, 3, 4, 5]\n",
      "b after: \n",
      " [1000, 2, 3]\n"
     ]
    }
   ],
   "source": [
    "a_list = [0,1,2,3,4,5]\n",
    "b_list = a_list[1:4]\n",
    "print('a before: \\n {}'.format(a_list))\n",
    "print('b before: \\n {}'.format(b_list))\n",
    "b_list[0] = 1000\n",
    "print('a after: \\n {}'.format(a_list))\n",
    "print('b after: \\n {}'.format(b_list))"
   ]
  },
  {
   "cell_type": "code",
   "execution_count": 6,
   "metadata": {},
   "outputs": [
    {
     "name": "stdout",
     "output_type": "stream",
     "text": [
      "a before: \n",
      " [0 1 2 3 4 5]\n",
      "b before: \n",
      " [1 2 3]\n",
      "a after: \n",
      " [   0 1000    2    3    4    5]\n",
      "b after: \n",
      " [1000    2    3]\n"
     ]
    }
   ],
   "source": [
    "a_array = np.array(a_list)\n",
    "b_array = a_array[1:4]\n",
    "print('a before: \\n {}'.format(a_array))\n",
    "print('b before: \\n {}'.format(b_array))\n",
    "b_array[0] = 1000\n",
    "print('a after: \\n {}'.format(a_array))\n",
    "print('b after: \\n {}'.format(b_array))"
   ]
  },
  {
   "cell_type": "code",
   "execution_count": 8,
   "metadata": {},
   "outputs": [
    {
     "name": "stdout",
     "output_type": "stream",
     "text": [
      "a before: \n",
      " [0 1 2 3 4 5]\n",
      "b before: \n",
      " [0 1 2 3 4 5]\n",
      "a after: \n",
      " [0 1 2 3 4 5]\n",
      "b after: \n",
      " [1000    1    2    3    4    5]\n"
     ]
    }
   ],
   "source": [
    "a_array = np.array(a_list)\n",
    "b_array = np.array(list(a_array))\n",
    "print('a before: \\n {}'.format(a_array))\n",
    "print('b before: \\n {}'.format(b_array))\n",
    "b_array[0] = 1000\n",
    "print('a after: \\n {}'.format(a_array))\n",
    "print('b after: \\n {}'.format(b_array))"
   ]
  },
  {
   "cell_type": "markdown",
   "metadata": {},
   "source": [
    "# Exercise 2"
   ]
  },
  {
   "cell_type": "code",
   "execution_count": 71,
   "metadata": {},
   "outputs": [
    {
     "name": "stdout",
     "output_type": "stream",
     "text": [
      "Array x: \n",
      " [1 2] \n",
      " \n",
      " Shape of x: (2,)\n"
     ]
    }
   ],
   "source": [
    "n = 3\n",
    "x = np.arange(1,n)\n",
    "x.reshape(-1,2)\n",
    "print('Array x: \\n {} \\n \\n Shape of x: {}'.format(x,x.shape))\n"
   ]
  },
  {
   "cell_type": "code",
   "execution_count": null,
   "metadata": {},
   "outputs": [],
   "source": []
  },
  {
   "cell_type": "code",
   "execution_count": null,
   "metadata": {},
   "outputs": [],
   "source": []
  },
  {
   "cell_type": "code",
   "execution_count": null,
   "metadata": {},
   "outputs": [],
   "source": []
  },
  {
   "cell_type": "markdown",
   "metadata": {},
   "source": [
    "# Exercise 3"
   ]
  },
  {
   "cell_type": "code",
   "execution_count": 85,
   "metadata": {},
   "outputs": [
    {
     "data": {
      "text/plain": [
       "True"
      ]
     },
     "execution_count": 85,
     "metadata": {},
     "output_type": "execute_result"
    }
   ],
   "source": [
    "a = np.array([0,1,2])\n",
    "b = np.array([3,0,0])\n",
    "c = np.dot(a,b)\n",
    "d = np.linalg.norm(a)*np.linalg.norm(b)\n",
    "e = np.arccos(c/d)\n",
    "f = e == np.pi/2\n",
    "f"
   ]
  },
  {
   "cell_type": "code",
   "execution_count": 87,
   "metadata": {},
   "outputs": [
    {
     "ename": "SyntaxError",
     "evalue": "invalid syntax (Temp/ipykernel_14364/3043676588.py, line 1)",
     "output_type": "error",
     "traceback": [
      "\u001b[1;36m  File \u001b[1;32m\"C:\\Users\\ADMINI~1\\AppData\\Local\\Temp/ipykernel_14364/3043676588.py\"\u001b[1;36m, line \u001b[1;32m1\u001b[0m\n\u001b[1;33m    1e\u001b[0m\n\u001b[1;37m     ^\u001b[0m\n\u001b[1;31mSyntaxError\u001b[0m\u001b[1;31m:\u001b[0m invalid syntax\n"
     ]
    }
   ],
   "source": []
  },
  {
   "cell_type": "code",
   "execution_count": null,
   "metadata": {},
   "outputs": [],
   "source": []
  },
  {
   "cell_type": "code",
   "execution_count": null,
   "metadata": {},
   "outputs": [],
   "source": []
  },
  {
   "cell_type": "markdown",
   "metadata": {},
   "source": [
    "# Exercise 4 - Linear Regression Exercise"
   ]
  },
  {
   "cell_type": "markdown",
   "metadata": {},
   "source": [
    "## Simulation of mock data \n",
    "\n",
    "Suppose the independent variable $x$ and the response variable $y$ follow a linear relationship, i.e.:\n",
    "\n",
    "$$ y  = \\mathbf{\\beta}^\\top \\cdot \\mathbf{x} = \\beta_0 + \\beta_1 x$$\n",
    "\n",
    "where\n",
    "\n",
    "$$\n",
    "\\mathbf{\\beta}\n",
    "=\n",
    "\\begin{bmatrix} \n",
    "\\beta_0 \\\\\n",
    "\\beta_1\n",
    "\\end{bmatrix} \n",
    "\\text{     and,    } \n",
    "\\mathbf{x}\n",
    "=\n",
    "\\begin{bmatrix} \n",
    "1 \\\\\n",
    "x\n",
    "\\end{bmatrix} \n",
    "$$\n",
    "\n",
    "\n",
    "$\\beta_0$ is the intercept term and $\\beta_1$ is the slope term."
   ]
  },
  {
   "cell_type": "markdown",
   "metadata": {},
   "source": [
    "We want to create some mock data $(X,Y)$ of $N=1000$ data points with certain amount of Gaussian noise $\\epsilon \\sim \\mathcal{N} (0,1) $.\n",
    "\n",
    "\n",
    "Where \n",
    "\n",
    "$$\n",
    "X\n",
    "=\n",
    "\\begin{bmatrix}\n",
    "\\mathbf{x_1}, \n",
    "\\mathbf{x_2}, \n",
    "\\cdots,\n",
    "\\mathbf{x_N}\n",
    "\\end{bmatrix}\n",
    "=\n",
    "\\begin{bmatrix}\n",
    "1 & 1& & 1\\\\\n",
    "& &\\cdots &\\\\\n",
    "x_1 & x_2& & x_N\n",
    "\\end{bmatrix}\n",
    "\\text{         and ,     }\n",
    "Y\n",
    "=\n",
    "\\begin{bmatrix}\n",
    "y_1,\n",
    "y_2,\n",
    "\\cdots,\n",
    "y_N\n",
    "\\end{bmatrix}\n",
    "$$\n",
    "\n",
    "\n"
   ]
  },
  {
   "cell_type": "markdown",
   "metadata": {},
   "source": [
    "and\n",
    "\n",
    "$$ y_i = \\mathbf{\\beta}^\\top \\cdot \\mathbf{x}_i + \\epsilon_i = \\beta_0 + \\beta_1 x_i + \\epsilon_i $$ for $i=1 \\ldots N$\n",
    "\n",
    "\n",
    "Let's assume $\\beta_0 = 3$ and $\\beta_1 = 10$."
   ]
  },
  {
   "cell_type": "code",
   "execution_count": 372,
   "metadata": {
    "colab": {
     "base_uri": "https://localhost:8080/",
     "height": 365
    },
    "id": "mTVqxx2BsO7t",
    "outputId": "7fc940f7-3cac-4d47-e709-ff6a7dfabeee"
   },
   "outputs": [
    {
     "data": {
      "text/plain": [
       "<matplotlib.collections.PathCollection at 0x1a7eff69ca0>"
      ]
     },
     "execution_count": 372,
     "metadata": {},
     "output_type": "execute_result"
    },
    {
     "data": {
      "image/png": "[encoded data removed]",
      "text/plain": [
       "<Figure size 576x396 with 1 Axes>"
      ]
     },
     "metadata": {},
     "output_type": "display_data"
    }
   ],
   "source": [
    "N = 100 #sample size\n",
    "\n",
    "true_beta = np.array([3,10])\n",
    "x = np.linspace(-1,1, N)\n",
    "x1 = np.vstack([np.ones(x.shape), x])\n",
    "\n",
    "eps = np.random.normal(0,1,N)\n",
    "\n",
    "y = np.matmul(true_beta, x1) + eps\n",
    "\n",
    "plt.scatter(x,y)\n"
   ]
  },
  {
   "cell_type": "markdown",
   "metadata": {},
   "source": [
    "## Linear Regression"
   ]
  },
  {
   "cell_type": "markdown",
   "metadata": {},
   "source": [
    "Suppose that we know $x$ and $y$ follow a linear relationship, but we do not know the value of $\\mathbf{\\beta}$. \n",
    "We want to build a linear model $f(\\mathbf{x}; \\beta)$ and estimate the value of $\\mathbf{\\beta}$ from data samples $(x_i,y_i)$, so that given any input $\\mathbf{x}_i$, we can make a prediction $\\hat{y_i}$:\n",
    "\n",
    "\n",
    "$$ \\hat{y_i} = f(\\mathbf{x}_i; \\beta) = \\mathbf{\\beta}^\\top \\cdot \\mathbf{x}_i  = \\beta_0 + \\beta_1 x_i  $$\n",
    "\n",
    "\n"
   ]
  },
  {
   "cell_type": "markdown",
   "metadata": {},
   "source": [
    "Define the mean squared error loss function which measure the error between our predictions and the actual values:"
   ]
  },
  {
   "cell_type": "markdown",
   "metadata": {
    "id": "_7g8A-Cb6svF"
   },
   "source": [
    "$$ l = \\frac{1}{N} \\sum_{i=1}^{N} (y_i-\\hat{y_i})^2 $$"
   ]
  },
  {
   "cell_type": "markdown",
   "metadata": {},
   "source": [
    "We can estimate the value of $\\beta$ by finding the minimizer which minimizes $l$ using the Newton-Raphson algorithm."
   ]
  },
  {
   "cell_type": "markdown",
   "metadata": {},
   "source": [
    "$$\n",
    "\\mathbf{\\hat{\\beta}}\n",
    "=\n",
    "\\text{argmin}_\\beta \\   l(\\beta)\n",
    "$$"
   ]
  },
  {
   "cell_type": "markdown",
   "metadata": {},
   "source": [
    "## Gradient and Hessian"
   ]
  },
  {
   "cell_type": "markdown",
   "metadata": {},
   "source": [
    "To use the Newton-Raphson algorithm, we need to calculate the gradient and Hessian of the loss function, which are the first order and second order partial derivatives of the loss function respectively."
   ]
  },
  {
   "cell_type": "markdown",
   "metadata": {},
   "source": [
    "### The first order partial derivatives of the loss function are:"
   ]
  },
  {
   "cell_type": "markdown",
   "metadata": {},
   "source": [
    "$$\n",
    "\\begin{align}\n",
    "\\frac{\\partial l}{\\partial \\beta_0} &= -\\frac{2}{N} \\sum_{i=1}^N (y_i-\\hat{y_i}) \\\\\n",
    "\\frac{\\partial l}{\\partial \\beta_1} &= -\\frac{2}{N} \\sum_{i=1}^N x_i \\cdot (y_i-\\hat{y_i}) \n",
    "\\end{align}\n",
    "$$"
   ]
  },
  {
   "cell_type": "markdown",
   "metadata": {},
   "source": [
    "### The gradient of the loss function is: "
   ]
  },
  {
   "cell_type": "markdown",
   "metadata": {},
   "source": [
    "$$\n",
    "\\nabla l\n",
    "=\n",
    "\\begin{bmatrix} \n",
    "\\frac{\\partial l}{\\partial \\beta_0} \\\\ \n",
    "\\frac{\\partial l}{\\partial \\beta_1}\n",
    "\\end{bmatrix}\n",
    "= \n",
    "-2 \\cdot\n",
    "\\begin{bmatrix} \n",
    "\\frac{1}{N} \\sum_{i=1}^N (y_i -\\hat{y_i}) \\\\ \n",
    "\\frac{1}{N} \\sum_{i=1}^N x_i \\cdot (y_i -\\hat{y_i})\n",
    "\\end{bmatrix}\n",
    "$$"
   ]
  },
  {
   "cell_type": "markdown",
   "metadata": {},
   "source": [
    "### The second order partial derivatives of the loss function are:"
   ]
  },
  {
   "cell_type": "markdown",
   "metadata": {},
   "source": [
    "$$ \n",
    "\\begin{align}\n",
    "\\frac{\\partial^2 l}{\\partial \\beta_0^2} &= 2 \\\\\n",
    "\\frac{\\partial^2 l}{\\partial \\beta_1^2} &=  \\frac{2}{N} \\sum_{i=1}^N x_i^2 \\\\\n",
    "\\frac{\\partial^2 l}{\\partial \\beta_0 \\partial \\beta_1}  \n",
    "&=  \n",
    "\\frac{\\partial^2 l}{\\partial \\beta_1 \\partial \\beta_0}\n",
    "=\n",
    "\\frac{2}{N} \\sum_{i=1}^N x_i \n",
    "\\end{align}\n",
    "$$"
   ]
  },
  {
   "cell_type": "markdown",
   "metadata": {},
   "source": [
    "### The Hessian of the loss function is: "
   ]
  },
  {
   "cell_type": "markdown",
   "metadata": {},
   "source": [
    "$$ \n",
    "H \n",
    "= \n",
    "\\begin{bmatrix} \n",
    "\\frac{\\partial^2 l}{\\partial \\beta_0^2} & \\frac{\\partial^2 l}{\\partial \\beta_0 \\partial \\beta_1} \\\\ \\frac{\\partial^2 l}{\\partial \\beta_1 \\partial \\beta_0} & \\frac{\\partial^2 l}{\\partial \\beta_1^2} \n",
    "\\end{bmatrix} \n",
    "= \n",
    "2 \\cdot\n",
    "\\begin{bmatrix}\n",
    "1 & \\frac{1}{N} \\sum_{i=1}^N x_i \\\\\n",
    "\\frac{1}{N} \\sum_{i=1}^N x_i & \\frac{1}{N} \\sum_{i=1}^N x_i^2\n",
    "\\end{bmatrix}\n",
    "$$"
   ]
  },
  {
   "cell_type": "markdown",
   "metadata": {
    "id": "QHy-SEHM3Nd7"
   },
   "source": [
    "## Newton-Raphson Algorithm (2nd Order Optimization)\n",
    "\n",
    "\n",
    "\n",
    "\n",
    "\n",
    "\n"
   ]
  },
  {
   "cell_type": "markdown",
   "metadata": {},
   "source": [
    "Define the functions for our linear model and the loss function"
   ]
  },
  {
   "cell_type": "code",
   "execution_count": 147,
   "metadata": {
    "id": "DrghUjgCtJ52"
   },
   "outputs": [],
   "source": [
    "# Define the function for our linear model\n",
    "def model(param,x1):\n",
    "    return np.array(np.matmul(param,x1))\n",
    "\n",
    "# Define the function for our loss function\n",
    "def loss_func(param, x1, y):\n",
    "    yhat = model(param, x1)\n",
    "    add = 0\n",
    "    x = y-yhat\n",
    "    for i in range(len(x)):\n",
    "        x[i] = x[i]**2\n",
    "    return np.sum(x)/x.shape[0]"
   ]
  },
  {
   "cell_type": "code",
   "execution_count": 312,
   "metadata": {},
   "outputs": [
    {
     "name": "stdout",
     "output_type": "stream",
     "text": [
      "[ 3 10]\n"
     ]
    }
   ],
   "source": [
    "x = np.array([1,2,2.5])\n",
    "x1 = np.vstack([np.ones(x.shape), x])\n",
    "beta = np.array([3,10])\n",
    "y = np.array([3,2,3])\n",
    "loss_func(beta, x1, y)\n",
    "print(beta)"
   ]
  },
  {
   "cell_type": "markdown",
   "metadata": {
    "id": "jN03rwVr6qsN"
   },
   "source": [
    "Newton-Raphson algorithm:\n",
    "\n",
    "1. Initialize $\\mathbf{\\beta}$ by sampling from the standard normal distribution  $\\mathcal{N} (0,1)$ \n",
    "\n",
    "\n",
    "\n",
    "2. At each iteration $k$, update the parameters $\\mathbf{\\beta}$ by this equation: \\\n",
    "   $$ \\mathbf{\\beta_{k+1}} = \\mathbf{\\beta_k} - H^{-1} \\mathbf{\\nabla} l(\\beta_k) $$\n",
    "     \n",
    "     \n",
    "3. Stop the algorithm when $|l(\\beta_{k+1}) - l(\\beta_k)| < \\text{tolerance}$, we can use a small number, i.e. $10^{-7}$, as our tolerance value \n",
    "\n",
    "\n",
    "Hint:\n",
    "1. You can use np.abs(delta) to compute the absolute value of delta\n"
   ]
  },
  {
   "cell_type": "code",
   "execution_count": 412,
   "metadata": {
    "colab": {
     "base_uri": "https://localhost:8080/",
     "height": 419
    },
    "id": "qIDLrQvmu9hy",
    "outputId": "694c213e-9ced-43b0-e14c-d7c524e62b0f"
   },
   "outputs": [],
   "source": [
    "beta = np.random.normal(0,1,2) #initialize beta\n",
    "tol = 1e-14 #tolerance\n",
    "delta = 1 #a variable to store the value for l(\\beta_{k+1}) - l(\\beta_{k}), initialized to be 1\n",
    "betalist = [beta]\n",
    "def hessian(x):\n",
    "    a = np.mean(x)\n",
    "    t = []\n",
    "    for i in x:\n",
    "        t.append(i**2)\n",
    "    b = np.mean(np.array(t))\n",
    "    return np.array([[2,2*a],[2*a,2*b]])\n",
    "def lossgradient(beta, x1):\n",
    "    yhat = model(beta, x1)\n",
    "    o = y-yhat\n",
    "    a = np.sum(o)/o.shape[0]\n",
    "    g = np.ones(o.shape)\n",
    "    for i in range(len(g)):\n",
    "        g[i] = x1[1][i]*o[i]\n",
    "    b = np.sum(g)/g.shape[0]\n",
    "    return np.array([[-2*a],[-2*b]])"
   ]
  },
  {
   "cell_type": "code",
   "execution_count": 421,
   "metadata": {
    "colab": {
     "base_uri": "https://localhost:8080/",
     "height": 419
    },
    "id": "qIDLrQvmu9hy",
    "outputId": "694c213e-9ced-43b0-e14c-d7c524e62b0f"
   },
   "outputs": [
    {
     "name": "stdout",
     "output_type": "stream",
     "text": [
      "The estimated value for beta is: [ 3.05324253 10.13751944]\n",
      "The true value for beta is: [ 3 10]\n"
     ]
    },
    {
     "data": {
      "image/png": "[encoded data removed]",
      "text/plain": [
       "<Figure size 576x396 with 1 Axes>"
      ]
     },
     "metadata": {},
     "output_type": "display_data"
    }
   ],
   "source": [
    "debug = False\n",
    "beta = np.random.normal(100,1,2) #initialize beta\n",
    "tol = 1e-14 #tolerance\n",
    "delta = 1 #a variable to store the value for l(\\beta_{k+1}) - l(\\beta_{k}), initialized to be 1\n",
    "betalist = [beta]\n",
    "while delta > tol:\n",
    "    if debug: print(\"last beta\", betalist[-1])\n",
    "    if debug: print(\"last loss\", lossgradient(betalist[-1], x1))\n",
    "    delta_beta = np.transpose(np.matmul(np.linalg.inv(hessian(x)), lossgradient(betalist[-1], x1)))\n",
    "    if debug: print(\"delta_beta\", delta_beta)\n",
    "    new_beta=betalist[-1]-delta_beta\n",
    "    if debug: print(\"new loss\", lossgradient(new_beta, x1))\n",
    "    betalist.append(new_beta)\n",
    "    #loss1 = loss_func(np.array([1,2]),np.array([[3,4],[7,8]]),np.array([5,6]))\n",
    "    loss1 = loss_func(betalist[-1],x1,y)\n",
    "    loss2 = loss_func(betalist[-2],x1,y)\n",
    "    delta = np.abs(loss1-loss2)\n",
    "    if debug: print(\"delta\", delta)\n",
    "    if debug: print(\"betalist\", betalist)\n",
    "    #print(\"new beta\", new_beta)\n",
    "    if debug: print(\"betalist[-1]\",betalist[-1])\n",
    "    if debug: print(\"x1\",x1)\n",
    "    if debug: print(\"new loss\", lossgradient(betalist[-1], x1))\n",
    "new_beta = new_beta[0]\n",
    "        \n",
    "print('The estimated value for beta is:', new_beta)\n",
    "print('The true value for beta is:', true_beta)\n",
    "\n",
    "y_pred = np.matmul(new_beta,x1)\n",
    "y_pred1 = np.matmul(true_beta,x1)\n",
    "x = x.reshape(y_pred.shape)\n",
    "plt.plot(x, y_pred, 'r')\n",
    "plt.plot(x, y_pred1, 'g')\n",
    "plt.scatter(x,y)\n",
    "plt.ylabel('y')\n",
    "plt.xlabel('x')\n",
    "plt.show()"
   ]
  },
  {
   "cell_type": "markdown",
   "metadata": {},
   "source": [
    "## Visualizing the result"
   ]
  },
  {
   "cell_type": "code",
   "execution_count": 379,
   "metadata": {
    "colab": {
     "base_uri": "https://localhost:8080/",
     "height": 361
    },
    "id": "xIXU02pRu9jy",
    "outputId": "cb9b7e97-7290-4170-dac5-6568835c9cfc"
   },
   "outputs": [
    {
     "name": "stdout",
     "output_type": "stream",
     "text": [
      "The estimated value for beta is: [[3.01953611 9.97994215]]\n",
      "The true value for beta is: [ 3 10]\n"
     ]
    },
    {
     "data": {
      "image/png": "[encoded data removed]",
      "text/plain": [
       "<Figure size 576x396 with 1 Axes>"
      ]
     },
     "metadata": {},
     "output_type": "display_data"
    }
   ],
   "source": [
    "print('The estimated value for beta is:', new_beta)\n",
    "print('The true value for beta is:', true_beta)\n",
    "\n",
    "y_pred = np.matmul(betalist[2][0],x1)\n",
    "\n",
    "plt.plot(x, y_pred, 'r')\n",
    "plt.scatter(x,y)\n",
    "plt.ylabel('y')\n",
    "plt.xlabel('x')\n",
    "plt.show()"
   ]
  },
  {
   "cell_type": "markdown",
   "metadata": {
    "id": "_eEc80S_4y4p"
   },
   "source": [
    "## Gradient Descent Algorithm (1st Order Optimization) [Optional Exercise]"
   ]
  },
  {
   "cell_type": "markdown",
   "metadata": {
    "id": "sWziMZP96hSH"
   },
   "source": [
    "Gradient descent algorithm:\n",
    "\n",
    "\n",
    "1. Initialize $\\mathbf{\\beta}$ by sampling from the standard normal distribution  $\\mathcal{N} (0,1)$ \n",
    "\n",
    "\n",
    "\n",
    "2. At each iteration $k$, update the parameters $\\mathbf{\\beta}$ by this equation: \\\n",
    "   $$ \\mathbf{\\beta_{k+1}} = \\mathbf{\\beta_k} - \\alpha \\mathbf{\\nabla} l(\\beta_k) $$\n",
    "   where $\\alpha \\sim 10^{-1}$ is the step size\n",
    "\n",
    "\n",
    "\n",
    "3. Stop the algorithm when $|l(\\beta_{k+1}) - l(\\beta_k)| < \\text{tolerance}$, we can use a small number, i.e. $10^{-7}$, as our tolerance value \n",
    "\n"
   ]
  },
  {
   "cell_type": "code",
   "execution_count": 441,
   "metadata": {
    "colab": {
     "base_uri": "https://localhost:8080/",
     "height": 1000
    },
    "id": "pWPNUYyAxm8q",
    "outputId": "b9e8fb27-f39c-4b2d-cac9-b2fda707b6e4",
    "scrolled": true
   },
   "outputs": [
    {
     "name": "stdout",
     "output_type": "stream",
     "text": [
      "The estimated value for beta is: 3.053242488970641\n",
      "The true value for beta is: [ 3 10]\n"
     ]
    },
    {
     "ename": "ValueError",
     "evalue": "matmul: Input operand 0 does not have enough dimensions (has 0, gufunc core with signature (n?,k),(k,m?)->(n?,m?) requires 1)",
     "output_type": "error",
     "traceback": [
      "\u001b[1;31m---------------------------------------------------------------------------\u001b[0m",
      "\u001b[1;31mValueError\u001b[0m                                Traceback (most recent call last)",
      "\u001b[1;32mC:\\Users\\ADMINI~1\\AppData\\Local\\Temp/ipykernel_14364/2313861554.py\u001b[0m in \u001b[0;36m<module>\u001b[1;34m\u001b[0m\n\u001b[0;32m     36\u001b[0m     \u001b[0mprint\u001b[0m\u001b[1;33m(\u001b[0m\u001b[1;34m'The true value for beta is:'\u001b[0m\u001b[1;33m,\u001b[0m \u001b[0mtrue_beta\u001b[0m\u001b[1;33m)\u001b[0m\u001b[1;33m\u001b[0m\u001b[1;33m\u001b[0m\u001b[0m\n\u001b[0;32m     37\u001b[0m \u001b[1;33m\u001b[0m\u001b[0m\n\u001b[1;32m---> 38\u001b[1;33m     \u001b[0my_pred\u001b[0m \u001b[1;33m=\u001b[0m \u001b[0mnp\u001b[0m\u001b[1;33m.\u001b[0m\u001b[0mmatmul\u001b[0m\u001b[1;33m(\u001b[0m\u001b[0mnew_beta\u001b[0m\u001b[1;33m,\u001b[0m\u001b[0mx1\u001b[0m\u001b[1;33m)\u001b[0m\u001b[1;33m\u001b[0m\u001b[1;33m\u001b[0m\u001b[0m\n\u001b[0m\u001b[0;32m     39\u001b[0m     \u001b[0my_pred1\u001b[0m \u001b[1;33m=\u001b[0m \u001b[0mnp\u001b[0m\u001b[1;33m.\u001b[0m\u001b[0mmatmul\u001b[0m\u001b[1;33m(\u001b[0m\u001b[0mtrue_beta\u001b[0m\u001b[1;33m,\u001b[0m\u001b[0mx1\u001b[0m\u001b[1;33m)\u001b[0m\u001b[1;33m\u001b[0m\u001b[1;33m\u001b[0m\u001b[0m\n\u001b[0;32m     40\u001b[0m     \u001b[0mx\u001b[0m \u001b[1;33m=\u001b[0m \u001b[0mx\u001b[0m\u001b[1;33m.\u001b[0m\u001b[0mreshape\u001b[0m\u001b[1;33m(\u001b[0m\u001b[0my_pred\u001b[0m\u001b[1;33m.\u001b[0m\u001b[0mshape\u001b[0m\u001b[1;33m)\u001b[0m\u001b[1;33m\u001b[0m\u001b[1;33m\u001b[0m\u001b[0m\n",
      "\u001b[1;31mValueError\u001b[0m: matmul: Input operand 0 does not have enough dimensions (has 0, gufunc core with signature (n?,k),(k,m?)->(n?,m?) requires 1)"
     ]
    }
   ],
   "source": [
    "from IPython.display import clear_output\n",
    "debug = False\n",
    "betalistshort = True\n",
    "beta = np.random.normal(0,1,2) #initialize beta\n",
    "alpha = 0.001\n",
    "tol = 1e-7 #tolerance\n",
    "delta = 1 #a variable to store the value for l(\\beta_{k+1}) - l(\\beta_{k}), initialized to be 1\n",
    "betalist = [beta]\n",
    "count = 1e3\n",
    "c=0\n",
    "while True:\n",
    "    while delta > tol:\n",
    "        if debug: print(\"last beta\", betalist[-1])\n",
    "        delta_beta = np.transpose(alpha*lossgradient(betalist[-1], x1))\n",
    "        if debug: print(\"test1\", lossgradient(betalist[-1], x1))\n",
    "        if debug: print(\"test2\", alpha*lossgradient(betalist[-1], x1))\n",
    "        #if debug: print(\"delta_beta\", delta_beta)\n",
    "        new_beta=betalist[-1]-delta_beta\n",
    "        #if debug: print(\"new_beta\",new_beta)\n",
    "        betalist.append(new_beta)\n",
    "        #loss1 = loss_func(np.array([1,2]),np.array([[3,4],[7,8]]),np.array([5,6]))\n",
    "        loss1 = loss_func(betalist[-1],x1,y)\n",
    "        loss2 = loss_func(betalist[-2],x1,y)\n",
    "        delta = np.abs(loss1-loss2)\n",
    "        #if debug: print(\"last loss\", loss2)\n",
    "        #if debug: print(\"new loss\", loss1)\n",
    "        #if debug: print(\"delta\", delta)\n",
    "        #if debug and betalistshort and len(betalist) > 100: print(\"betalist\", betalist[-100:])\n",
    "        #if debug and betalistshort and not len(betalist) > 100: print(\"betalist\", betalist)\n",
    "        #if debug and not betalistshort: print(\"betalist\", betalist)\n",
    "        c += 1\n",
    "        if count < c: break\n",
    "    if count < c: raise RuntimeError('Loop ran for too long')\n",
    "    new_beta = new_beta[0]\n",
    "    print('The estimated value for beta is:', new_beta)\n",
    "    print('The true value for beta is:', true_beta)\n",
    "\n",
    "    y_pred = np.matmul(new_beta,x1)\n",
    "    y_pred1 = np.matmul(true_beta,x1)\n",
    "    x = x.reshape(y_pred.shape)\n",
    "    plt.plot(x, y_pred, 'r')\n",
    "    plt.plot(x, y_pred1, 'g')\n",
    "    plt.scatter(x,y)\n",
    "    plt.ylabel('y')\n",
    "    plt.xlabel('x')\n",
    "    plt.show()\n",
    "    clear_output(wait=True)"
   ]
  },
  {
   "cell_type": "markdown",
   "metadata": {},
   "source": [
    "## Visualizing the result"
   ]
  },
  {
   "cell_type": "code",
   "execution_count": 423,
   "metadata": {
    "colab": {
     "base_uri": "https://localhost:8080/",
     "height": 361
    },
    "id": "hmG0WtzI5C0N",
    "outputId": "f44eede9-3dcb-4974-b2ea-1738e3a2d23b"
   },
   "outputs": [
    {
     "name": "stdout",
     "output_type": "stream",
     "text": [
      "The estimated value for beta is: [ 3.05324249 -4.00079235]\n",
      "The true value for beta is: [ 3 10]\n"
     ]
    },
    {
     "data": {
      "image/png": "[encoded data removed]",
      "text/plain": [
       "<Figure size 576x396 with 1 Axes>"
      ]
     },
     "metadata": {},
     "output_type": "display_data"
    }
   ],
   "source": [
    "print('The estimated value for beta is:', new_beta)\n",
    "print('The true value for beta is:', true_beta)\n",
    "\n",
    "y_pred = np.matmul(new_beta,x1)\n",
    "y_pred1 = np.matmul(true_beta,x1)\n",
    "x = x.reshape(y_pred.shape)\n",
    "plt.plot(x, y_pred, 'r')\n",
    "plt.plot(x, y_pred1, 'g')\n",
    "plt.scatter(x,y)\n",
    "plt.ylabel('y')\n",
    "plt.xlabel('x')\n",
    "plt.show()"
   ]
  },
  {
   "cell_type": "code",
   "execution_count": 380,
   "metadata": {
    "scrolled": true
   },
   "outputs": [
    {
     "data": {
      "text/plain": [
       "<matplotlib.collections.PathCollection at 0x1a7eeec8640>"
      ]
     },
     "execution_count": 380,
     "metadata": {},
     "output_type": "execute_result"
    },
    {
     "data": {
      "image/png": "[encoded data removed]",
      "text/plain": [
       "<Figure size 576x396 with 1 Axes>"
      ]
     },
     "metadata": {},
     "output_type": "display_data"
    }
   ],
   "source": [
    "N = 10 #sample size\n",
    "\n",
    "true_beta = np.array([3,10])\n",
    "x = np.linspace(-1,1, N)\n",
    "x1 = np.vstack([np.ones(x.shape), x])\n",
    "\n",
    "eps = np.random.normal(0,1,N)\n",
    "\n",
    "y = np.matmul(true_beta, x1) + eps\n",
    "\n",
    "plt.scatter(x,y)\n"
   ]
  },
  {
   "cell_type": "code",
   "execution_count": 394,
   "metadata": {},
   "outputs": [
    {
     "data": {
      "text/plain": [
       "(array([2, 4]), array([1, 2]))"
      ]
     },
     "execution_count": 394,
     "metadata": {},
     "output_type": "execute_result"
    }
   ],
   "source": [
    "testarray = np.array([1,2])\n",
    "2*testarray, testarray"
   ]
  }
 ],
 "metadata": {
  "colab": {
   "name": "linear_regression.ipynb",
   "provenance": []
  },
  "kernelspec": {
   "display_name": "Python 3 (ipykernel)",
   "language": "python",
   "name": "python3"
  },
  "language_info": {
   "codemirror_mode": {
    "name": "ipython",
    "version": 3
   },
   "file_extension": ".py",
   "mimetype": "text/x-python",
   "name": "python",
   "nbconvert_exporter": "python",
   "pygments_lexer": "ipython3",
   "version": "3.9.7"
  }
 },
 "nbformat": 4,
 "nbformat_minor": 1
}
