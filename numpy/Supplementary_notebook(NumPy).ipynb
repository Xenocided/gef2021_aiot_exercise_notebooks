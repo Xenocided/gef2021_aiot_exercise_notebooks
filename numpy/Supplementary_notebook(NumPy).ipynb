{
 "cells": [
  {
   "cell_type": "code",
   "execution_count": 1,
   "id": "c9a261fd",
   "metadata": {},
   "outputs": [],
   "source": [
    "import numpy as np"
   ]
  },
  {
   "cell_type": "markdown",
   "id": "3f4a93eb",
   "metadata": {},
   "source": [
    "# Writing efficient Python code using array broadcasting and vectorization"
   ]
  },
  {
   "cell_type": "markdown",
   "id": "549183a8",
   "metadata": {},
   "source": [
    "# Array broadcasting"
   ]
  },
  {
   "cell_type": "markdown",
   "id": "d935f234",
   "metadata": {},
   "source": [
    "Suppose we want to multiply the matrix $n$-th row of a matrix by a number $n$, i.e. multiply 1st row by 1, 2nd row by 2 and so on. "
   ]
  },
  {
   "cell_type": "markdown",
   "id": "cfd87c64",
   "metadata": {},
   "source": [
    "For example:\n",
    "\n",
    "$$\n",
    "\\begin{pmatrix}\n",
    "1 & 2 \\\\\n",
    "3 & 4\n",
    "\\end {pmatrix}\n",
    "\\rightarrow\n",
    "\\begin{pmatrix}\n",
    "1 & 2 \\\\\n",
    "6 & 8\n",
    "\\end {pmatrix}\n",
    "$$"
   ]
  },
  {
   "cell_type": "markdown",
   "id": "b4983bd6",
   "metadata": {},
   "source": [
    "We can do this using two different methods:\n",
    "1. Using a ***for*** loop\n",
    "2. Using array broadcasting\n",
    "\n",
    "Let's look at the required time for these two methods."
   ]
  },
  {
   "cell_type": "markdown",
   "id": "a5d356b2",
   "metadata": {},
   "source": [
    "# Small array"
   ]
  },
  {
   "cell_type": "markdown",
   "id": "d34bc252",
   "metadata": {},
   "source": [
    "## Method 1: For Loop"
   ]
  },
  {
   "cell_type": "code",
   "execution_count": 2,
   "id": "7f8793b5",
   "metadata": {},
   "outputs": [
    {
     "data": {
      "text/plain": [
       "array([[1, 2],\n",
       "       [3, 4]])"
      ]
     },
     "execution_count": 2,
     "metadata": {},
     "output_type": "execute_result"
    }
   ],
   "source": [
    "z = np.arange(1,5).reshape(2,2)\n",
    "z"
   ]
  },
  {
   "cell_type": "code",
   "execution_count": 3,
   "id": "cc114cee",
   "metadata": {},
   "outputs": [
    {
     "data": {
      "text/plain": [
       "array([[1, 2],\n",
       "       [6, 8]])"
      ]
     },
     "execution_count": 3,
     "metadata": {},
     "output_type": "execute_result"
    }
   ],
   "source": [
    "for i in range(2):\n",
    "    z[i,:] = z[i,:]*(i+1)\n",
    "z"
   ]
  },
  {
   "cell_type": "code",
   "execution_count": 4,
   "id": "0017c36c",
   "metadata": {},
   "outputs": [
    {
     "data": {
      "text/plain": [
       "<TimeitResult : 4.2 µs ± 4.71 µs per loop (mean ± std. dev. of 1000 runs, 1 loop each)>"
      ]
     },
     "execution_count": 4,
     "metadata": {},
     "output_type": "execute_result"
    }
   ],
   "source": [
    "%%timeit -o -r 1000 -n 1 -q\n",
    "\n",
    "for i in range(2):\n",
    "    z[i,:] = z[i,:]*(i+1)"
   ]
  },
  {
   "cell_type": "markdown",
   "id": "a87bff47",
   "metadata": {},
   "source": [
    "## Method 2: Array Broadcasting"
   ]
  },
  {
   "cell_type": "code",
   "execution_count": 5,
   "id": "fab5724e",
   "metadata": {},
   "outputs": [
    {
     "data": {
      "text/plain": [
       "array([[1, 2],\n",
       "       [3, 4]])"
      ]
     },
     "execution_count": 5,
     "metadata": {},
     "output_type": "execute_result"
    }
   ],
   "source": [
    "x = np.arange(1,5).reshape(2,2)\n",
    "x"
   ]
  },
  {
   "cell_type": "code",
   "execution_count": 6,
   "id": "2a881d59",
   "metadata": {},
   "outputs": [
    {
     "data": {
      "text/plain": [
       "array([[1],\n",
       "       [2]])"
      ]
     },
     "execution_count": 6,
     "metadata": {},
     "output_type": "execute_result"
    }
   ],
   "source": [
    "y = np.arange(1,3).reshape(2,1)\n",
    "y"
   ]
  },
  {
   "cell_type": "code",
   "execution_count": 7,
   "id": "b3194c09",
   "metadata": {},
   "outputs": [
    {
     "name": "stdout",
     "output_type": "stream",
     "text": [
      "[[1 2]\n",
      " [6 8]]\n"
     ]
    }
   ],
   "source": [
    "print(x*y)"
   ]
  },
  {
   "cell_type": "code",
   "execution_count": 8,
   "id": "ee92e66c",
   "metadata": {},
   "outputs": [
    {
     "data": {
      "text/plain": [
       "<TimeitResult : 1.61 µs ± 748 ns per loop (mean ± std. dev. of 1000 runs, 1 loop each)>"
      ]
     },
     "execution_count": 8,
     "metadata": {},
     "output_type": "execute_result"
    }
   ],
   "source": [
    "%%timeit -o -r 1000 -n 1 -q\n",
    "\n",
    "x*y"
   ]
  },
  {
   "cell_type": "markdown",
   "id": "0d7b7737",
   "metadata": {},
   "source": [
    "# Large array"
   ]
  },
  {
   "cell_type": "markdown",
   "id": "ae7a8068",
   "metadata": {},
   "source": [
    "## Method 1: For Loop"
   ]
  },
  {
   "cell_type": "code",
   "execution_count": 9,
   "id": "cd99aebf",
   "metadata": {},
   "outputs": [
    {
     "data": {
      "text/plain": [
       "array([[   1,    2],\n",
       "       [   3,    4],\n",
       "       [   5,    6],\n",
       "       ...,\n",
       "       [1995, 1996],\n",
       "       [1997, 1998],\n",
       "       [1999, 2000]])"
      ]
     },
     "execution_count": 9,
     "metadata": {},
     "output_type": "execute_result"
    }
   ],
   "source": [
    "large_z = np.arange(1,2001).reshape(-1,2)\n",
    "large_z"
   ]
  },
  {
   "cell_type": "code",
   "execution_count": 10,
   "id": "705375e5",
   "metadata": {},
   "outputs": [
    {
     "data": {
      "text/plain": [
       "array([[      1,       2],\n",
       "       [      6,       8],\n",
       "       [     15,      18],\n",
       "       ...,\n",
       "       [1991010, 1992008],\n",
       "       [1995003, 1996002],\n",
       "       [1999000, 2000000]])"
      ]
     },
     "execution_count": 10,
     "metadata": {},
     "output_type": "execute_result"
    }
   ],
   "source": [
    "for i in range(1000):\n",
    "    large_z[i,:] = large_z[i,:]*(i+1)\n",
    "large_z"
   ]
  },
  {
   "cell_type": "code",
   "execution_count": 11,
   "id": "68e5ba91",
   "metadata": {},
   "outputs": [
    {
     "data": {
      "text/plain": [
       "<TimeitResult : 1.45 ms ± 140 µs per loop (mean ± std. dev. of 1000 runs, 1 loop each)>"
      ]
     },
     "execution_count": 11,
     "metadata": {},
     "output_type": "execute_result"
    }
   ],
   "source": [
    "%%timeit -o -r 1000 -n 1 -q\n",
    "\n",
    "for i in range(1000):\n",
    "    large_z[i,:] = large_z[i,:]*(i+1)"
   ]
  },
  {
   "cell_type": "markdown",
   "id": "55734c8e",
   "metadata": {},
   "source": [
    "## Method 2: Array Broadcasting"
   ]
  },
  {
   "cell_type": "code",
   "execution_count": 12,
   "id": "2f5a0be9",
   "metadata": {},
   "outputs": [
    {
     "data": {
      "text/plain": [
       "array([[   1,    2],\n",
       "       [   3,    4],\n",
       "       [   5,    6],\n",
       "       ...,\n",
       "       [1995, 1996],\n",
       "       [1997, 1998],\n",
       "       [1999, 2000]])"
      ]
     },
     "execution_count": 12,
     "metadata": {},
     "output_type": "execute_result"
    }
   ],
   "source": [
    "large_x = np.arange(1,2001).reshape(-1,2)\n",
    "large_x"
   ]
  },
  {
   "cell_type": "code",
   "execution_count": 13,
   "id": "dd0d8679",
   "metadata": {},
   "outputs": [],
   "source": [
    "large_y = np.arange(1,1001).reshape(-1,1)\n"
   ]
  },
  {
   "cell_type": "code",
   "execution_count": 14,
   "id": "a55d4af7",
   "metadata": {},
   "outputs": [
    {
     "data": {
      "text/plain": [
       "array([[      1,       2],\n",
       "       [      6,       8],\n",
       "       [     15,      18],\n",
       "       ...,\n",
       "       [1991010, 1992008],\n",
       "       [1995003, 1996002],\n",
       "       [1999000, 2000000]])"
      ]
     },
     "execution_count": 14,
     "metadata": {},
     "output_type": "execute_result"
    }
   ],
   "source": [
    "large_x*large_y"
   ]
  },
  {
   "cell_type": "code",
   "execution_count": 15,
   "id": "40ca8ade",
   "metadata": {},
   "outputs": [
    {
     "data": {
      "text/plain": [
       "<TimeitResult : 17.6 µs ± 9.38 µs per loop (mean ± std. dev. of 1000 runs, 1 loop each)>"
      ]
     },
     "execution_count": 15,
     "metadata": {},
     "output_type": "execute_result"
    }
   ],
   "source": [
    "%%timeit -o -r 1000 -n 1 -q\n",
    "\n",
    "large_x*large_y"
   ]
  },
  {
   "cell_type": "markdown",
   "id": "4f32bb3e",
   "metadata": {},
   "source": [
    "# Vectorization"
   ]
  },
  {
   "cell_type": "markdown",
   "id": "2652ea01",
   "metadata": {},
   "source": [
    "Suppose we want to apply the following function to each element of the array:\n",
    "\n",
    "\n",
    "$$\n",
    "    y= \n",
    "\\begin{cases}\n",
    "    x-thr,& \\text{if } x\\geq thr\\\\\n",
    "    x+thr,              & \\text{otherwise}\n",
    "\\end{cases}\n",
    "$$"
   ]
  },
  {
   "cell_type": "markdown",
   "id": "82549726",
   "metadata": {},
   "source": [
    "We can do this using three different methods:\n",
    "1. Using a ***for*** loop\n",
    "2. Using the ***map*** function\n",
    "3. Using ***np.vectorize***\n",
    "\n",
    "Let's look at the required time for these three methods."
   ]
  },
  {
   "cell_type": "code",
   "execution_count": 16,
   "id": "be4d2c27",
   "metadata": {},
   "outputs": [],
   "source": [
    "def myFunc(x,threshold):\n",
    "    if x>threshold:\n",
    "        return x-threshold\n",
    "    else:\n",
    "        return x+threshold"
   ]
  },
  {
   "cell_type": "markdown",
   "id": "06e59a86",
   "metadata": {},
   "source": [
    "# Small array"
   ]
  },
  {
   "cell_type": "code",
   "execution_count": 17,
   "id": "4f3594d7",
   "metadata": {},
   "outputs": [],
   "source": [
    "x_arr = np.arange(10)\n",
    "y_arr = np.empty_like(x_arr)\n",
    "thr = 5"
   ]
  },
  {
   "cell_type": "markdown",
   "id": "403f1dac",
   "metadata": {},
   "source": [
    "## Method 1: For loop"
   ]
  },
  {
   "cell_type": "code",
   "execution_count": 18,
   "id": "2e2ac316",
   "metadata": {},
   "outputs": [
    {
     "name": "stdout",
     "output_type": "stream",
     "text": [
      "[ 5  6  7  8  9 10  1  2  3  4]\n"
     ]
    }
   ],
   "source": [
    "for i in range(len(x_arr)):\n",
    "    y_arr[i] = myFunc(x_arr[i],thr)\n",
    "print(y_arr)"
   ]
  },
  {
   "cell_type": "code",
   "execution_count": 19,
   "id": "27ac9c38",
   "metadata": {},
   "outputs": [
    {
     "data": {
      "text/plain": [
       "<TimeitResult : 6.15 µs ± 1.33 µs per loop (mean ± std. dev. of 1000 runs, 1 loop each)>"
      ]
     },
     "execution_count": 19,
     "metadata": {},
     "output_type": "execute_result"
    }
   ],
   "source": [
    "%%timeit -o -r 1000 -n 1 -q\n",
    "\n",
    "for i in range(len(x_arr)):\n",
    "    y_arr[i] = myFunc(x_arr[i],thr)"
   ]
  },
  {
   "cell_type": "markdown",
   "id": "b0935a84",
   "metadata": {},
   "source": [
    "## Method 2: map"
   ]
  },
  {
   "cell_type": "code",
   "execution_count": 20,
   "id": "a6d81733",
   "metadata": {},
   "outputs": [
    {
     "name": "stdout",
     "output_type": "stream",
     "text": [
      "[5, 6, 7, 8, 9, 10, 1, 2, 3, 4]\n"
     ]
    }
   ],
   "source": [
    "y_arr = list(map(lambda x: myFunc(x,thr),x_arr))\n",
    "print(y_arr)"
   ]
  },
  {
   "cell_type": "code",
   "execution_count": 21,
   "id": "1e2f1064",
   "metadata": {},
   "outputs": [
    {
     "data": {
      "text/plain": [
       "<TimeitResult : 5.64 µs ± 1.32 µs per loop (mean ± std. dev. of 1000 runs, 1 loop each)>"
      ]
     },
     "execution_count": 21,
     "metadata": {},
     "output_type": "execute_result"
    }
   ],
   "source": [
    "%%timeit -o -r 1000 -n 1 -q\n",
    "\n",
    "y_arr = list(map(lambda x: myFunc(x,thr),x_arr))"
   ]
  },
  {
   "cell_type": "markdown",
   "id": "1618ae85",
   "metadata": {},
   "source": [
    "## Method 3: np.vectorize"
   ]
  },
  {
   "cell_type": "code",
   "execution_count": 22,
   "id": "26b28cb4",
   "metadata": {},
   "outputs": [
    {
     "name": "stdout",
     "output_type": "stream",
     "text": [
      "[ 5  6  7  8  9 10  1  2  3  4]\n"
     ]
    }
   ],
   "source": [
    "vectorizedFunc = np.vectorize(myFunc)\n",
    "y_arr = vectorizedFunc(x_arr,thr)\n",
    "print(y_arr)"
   ]
  },
  {
   "cell_type": "code",
   "execution_count": 23,
   "id": "3213ca06",
   "metadata": {},
   "outputs": [
    {
     "data": {
      "text/plain": [
       "<TimeitResult : 16.6 µs ± 11.2 µs per loop (mean ± std. dev. of 1000 runs, 1 loop each)>"
      ]
     },
     "execution_count": 23,
     "metadata": {},
     "output_type": "execute_result"
    }
   ],
   "source": [
    "%%timeit -o -r 1000 -n 1 -q\n",
    "\n",
    "y_arr = vectorizedFunc(x_arr,thr)"
   ]
  },
  {
   "cell_type": "markdown",
   "id": "dc5e2907",
   "metadata": {},
   "source": [
    "# Large array"
   ]
  },
  {
   "cell_type": "code",
   "execution_count": 24,
   "id": "beeef4ba",
   "metadata": {},
   "outputs": [],
   "source": [
    "x_arr = np.arange(1000)\n",
    "y_arr = np.empty_like(x_arr)\n",
    "thr = 500"
   ]
  },
  {
   "cell_type": "markdown",
   "id": "19238a17",
   "metadata": {},
   "source": [
    "## Method 1: For loop"
   ]
  },
  {
   "cell_type": "code",
   "execution_count": 25,
   "id": "4267b0e5",
   "metadata": {},
   "outputs": [
    {
     "data": {
      "text/plain": [
       "<TimeitResult : 551 µs ± 78.8 µs per loop (mean ± std. dev. of 1000 runs, 1 loop each)>"
      ]
     },
     "execution_count": 25,
     "metadata": {},
     "output_type": "execute_result"
    }
   ],
   "source": [
    "%%timeit -o -r 1000 -n 1 -q\n",
    "\n",
    "for i in range(len(x_arr)):\n",
    "    y_arr[i] = myFunc(x_arr[i],thr)"
   ]
  },
  {
   "cell_type": "markdown",
   "id": "60b6e896",
   "metadata": {},
   "source": [
    "## Method 2: map"
   ]
  },
  {
   "cell_type": "code",
   "execution_count": 26,
   "id": "08b462f1",
   "metadata": {},
   "outputs": [
    {
     "data": {
      "text/plain": [
       "<TimeitResult : 427 µs ± 77.6 µs per loop (mean ± std. dev. of 1000 runs, 1 loop each)>"
      ]
     },
     "execution_count": 26,
     "metadata": {},
     "output_type": "execute_result"
    }
   ],
   "source": [
    "%%timeit -o -r 1000 -n 1 -q\n",
    "\n",
    "y_arr = list(map(lambda x: myFunc(x,thr),x_arr))"
   ]
  },
  {
   "cell_type": "markdown",
   "id": "10e102e0",
   "metadata": {},
   "source": [
    "## Method 3: np.vectorize"
   ]
  },
  {
   "cell_type": "code",
   "execution_count": 27,
   "id": "8cdd4524",
   "metadata": {},
   "outputs": [
    {
     "data": {
      "text/plain": [
       "<TimeitResult : 194 µs ± 77.4 µs per loop (mean ± std. dev. of 1000 runs, 1 loop each)>"
      ]
     },
     "execution_count": 27,
     "metadata": {},
     "output_type": "execute_result"
    }
   ],
   "source": [
    "%%timeit -o -r 1000 -n 1 -q\n",
    "\n",
    "y_arr = vectorizedFunc(x_arr,thr)"
   ]
  },
  {
   "cell_type": "code",
   "execution_count": null,
   "id": "51980ef4",
   "metadata": {},
   "outputs": [],
   "source": []
  }
 ],
 "metadata": {
  "kernelspec": {
   "display_name": "Python 3 (ipykernel)",
   "language": "python",
   "name": "python3"
  },
  "language_info": {
   "codemirror_mode": {
    "name": "ipython",
    "version": 3
   },
   "file_extension": ".py",
   "mimetype": "text/x-python",
   "name": "python",
   "nbconvert_exporter": "python",
   "pygments_lexer": "ipython3",
   "version": "3.8.8"
  }
 },
 "nbformat": 4,
 "nbformat_minor": 5
}
