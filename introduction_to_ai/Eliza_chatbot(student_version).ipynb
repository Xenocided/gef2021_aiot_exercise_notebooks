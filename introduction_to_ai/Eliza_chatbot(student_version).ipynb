{
 "cells": [
  {
   "cell_type": "markdown",
   "metadata": {
    "id": "89q-GVcSD2uZ"
   },
   "source": [
    "***Credit: This exercise is based on the published paper \"A Python Pattern Matcher Project for an Introduction to Artificial Intelligence Course\" by Dr. Cynthia J. Martincic from Saint Vincent College, Latrobe, PA. Available here: http://citeseerx.ist.psu.edu/viewdoc/download?doi=10.1.1.414.9658&rep=rep1&type=pdf***\n",
    "\n",
    "\n",
    "### Note that:\n",
    "1. The syntax used in the paper is Python 2, but we should write the chatbot in Python3.\n",
    "2. If you get stuck at some point, feel free to refer to the Appendix A of the paper for your reference."
   ]
  },
  {
   "cell_type": "markdown",
   "metadata": {
    "id": "VpTFC3QuMGqF"
   },
   "source": [
    "# Import the required Python libraries"
   ]
  },
  {
   "cell_type": "code",
   "execution_count": 249,
   "metadata": {
    "id": "zGtz2tAG0DYc"
   },
   "outputs": [],
   "source": [
    "import random"
   ]
  },
  {
   "cell_type": "markdown",
   "metadata": {
    "id": "PkfCYwoWgCsy"
   },
   "source": [
    "## Ex. 1"
   ]
  },
  {
   "cell_type": "markdown",
   "metadata": {
    "id": "hKhGsiFW4ah2"
   },
   "source": [
    "Write a function called “isvariable” that returns true if the string passed to it begins with the underscore character and false otherwise, i.e.:\n",
    "\n",
    "\n",
    "\n",
    "1.   isvariable('_x') returns True\n",
    "2.   isvariable('x') returns False\n",
    "\n",
    "\n",
    "\n"
   ]
  },
  {
   "cell_type": "code",
   "execution_count": 4,
   "metadata": {
    "id": "H4h7lcf7gp24"
   },
   "outputs": [],
   "source": [
    "def isvariable(string):\n",
    "    if string.strip()[0] == '_':\n",
    "        return True\n",
    "    else: return False"
   ]
  },
  {
   "cell_type": "markdown",
   "metadata": {
    "id": "LVBYR1BL5Rzt"
   },
   "source": [
    "Test your function by running the cell below:\n"
   ]
  },
  {
   "cell_type": "code",
   "execution_count": 5,
   "metadata": {
    "id": "b1vAKjOs0KUb"
   },
   "outputs": [
    {
     "name": "stdout",
     "output_type": "stream",
     "text": [
      "True\n",
      "False\n"
     ]
    }
   ],
   "source": [
    "print( isvariable('_x') )\n",
    "print( isvariable('x') )"
   ]
  },
  {
   "cell_type": "markdown",
   "metadata": {
    "id": "LrWxh94L4zRJ"
   },
   "source": [
    "Expected output:\n",
    "\n",
    "True \n",
    "\n",
    "False"
   ]
  },
  {
   "cell_type": "markdown",
   "metadata": {
    "id": "43m5vNhZgFoe"
   },
   "source": [
    "## Ex. 2"
   ]
  },
  {
   "cell_type": "markdown",
   "metadata": {
    "id": "2WmU0Ms_8lOK"
   },
   "source": [
    "Write a function called \"isseqvariable\" that returns true if the string passed to it begins with \"S_\" and returns false otherwise, i.e.:\n",
    "\n",
    "\n",
    "1.  isseqvariable('S_x') returns True\n",
    "\n",
    "2.  isseqvariable('_x') returns False\n",
    "\n",
    "3.  isseqvariable('x') returns False\n",
    "\n"
   ]
  },
  {
   "cell_type": "code",
   "execution_count": 6,
   "metadata": {
    "id": "uDCBSqqdxHdC"
   },
   "outputs": [],
   "source": [
    "def isseqvariable(string):\n",
    "    if string.strip()[0:2] == 'S_':\n",
    "        return True\n",
    "    else: return False"
   ]
  },
  {
   "cell_type": "markdown",
   "metadata": {
    "id": "z5PdPKrp5ZsQ"
   },
   "source": [
    "Test your function by running the cell below:"
   ]
  },
  {
   "cell_type": "code",
   "execution_count": 7,
   "metadata": {
    "id": "_1qeYjbdxRHJ"
   },
   "outputs": [
    {
     "name": "stdout",
     "output_type": "stream",
     "text": [
      "True\n",
      "False\n",
      "False\n"
     ]
    }
   ],
   "source": [
    "print( isseqvariable('S_x') )\n",
    "print( isseqvariable('_x') )\n",
    "print( isseqvariable('x') )"
   ]
  },
  {
   "cell_type": "markdown",
   "metadata": {
    "id": "dIETGjIV47zs"
   },
   "source": [
    "Expected output:\n",
    "\n",
    "True\n",
    "\n",
    "False\n",
    "\n",
    "False"
   ]
  },
  {
   "cell_type": "markdown",
   "metadata": {
    "id": "MIH9Z5TKgINd"
   },
   "source": [
    "## Ex. 3"
   ]
  },
  {
   "cell_type": "markdown",
   "metadata": {
    "id": "MlYfL0Lm9d36"
   },
   "source": [
    "Write a function called \"match_element\" that takes two strings and returns true if the two string are equal or if either of them is a variable as defined by the function in the previous exercise."
   ]
  },
  {
   "cell_type": "code",
   "execution_count": 12,
   "metadata": {
    "id": "spu39XsIg1Vj"
   },
   "outputs": [],
   "source": [
    "def match_element(str1, str2):\n",
    "    if str1 == str2:\n",
    "        return True\n",
    "    elif isvariable(str1) or isvariable(str2):\n",
    "        return True\n",
    "    else: return False"
   ]
  },
  {
   "cell_type": "markdown",
   "metadata": {
    "id": "6Xd6Yt0G5aay"
   },
   "source": [
    "Test your function by running the cell below:"
   ]
  },
  {
   "cell_type": "code",
   "execution_count": 13,
   "metadata": {
    "id": "Yqz6ZjTZ3eO6"
   },
   "outputs": [
    {
     "name": "stdout",
     "output_type": "stream",
     "text": [
      "True\n",
      "True\n",
      "True\n",
      "True\n",
      "False\n"
     ]
    }
   ],
   "source": [
    "print( match_element('_X', '_Y') )\n",
    "print( match_element('5', '_Y') )\n",
    "print( match_element('_X', '5') )\n",
    "print( match_element('5', '5') )\n",
    "print( match_element('X', 'Y') )"
   ]
  },
  {
   "cell_type": "markdown",
   "metadata": {
    "id": "-lGay4rY5Asg"
   },
   "source": [
    "Expected output:\n",
    "\n",
    "True\n",
    "\n",
    "True\n",
    "\n",
    "True\n",
    "\n",
    "True\n",
    "\n",
    "False"
   ]
  },
  {
   "cell_type": "markdown",
   "metadata": {
    "id": "MdnQnJRUgJ3y"
   },
   "source": [
    "## Ex. 4"
   ]
  },
  {
   "cell_type": "markdown",
   "metadata": {
    "id": "QWViOXJBAZb8"
   },
   "source": [
    "Write a function called \"dont_care\" that returns true if its argument is a string containing only a question\n",
    "mark and false otherwise"
   ]
  },
  {
   "cell_type": "code",
   "execution_count": 15,
   "metadata": {
    "id": "tbnioGDWg3xT"
   },
   "outputs": [],
   "source": [
    "def dont_care(string):\n",
    "    if string.strip() == '?':\n",
    "        return True\n",
    "    else: return False"
   ]
  },
  {
   "cell_type": "markdown",
   "metadata": {
    "id": "d3HVGNuP5bbs"
   },
   "source": [
    "Test your function by running the cell below:"
   ]
  },
  {
   "cell_type": "code",
   "execution_count": 16,
   "metadata": {
    "id": "ZVcZs5I10hPv"
   },
   "outputs": [
    {
     "name": "stdout",
     "output_type": "stream",
     "text": [
      "True\n",
      "False\n"
     ]
    }
   ],
   "source": [
    "print(dont_care('?'))\n",
    "print(dont_care('b'))"
   ]
  },
  {
   "cell_type": "markdown",
   "metadata": {
    "id": "uFbhscP25HHV"
   },
   "source": [
    "Expected output:\n",
    "\n",
    "True\n",
    "\n",
    "False"
   ]
  },
  {
   "cell_type": "markdown",
   "metadata": {
    "id": "lrQaGIXcxkIL"
   },
   "source": [
    "## Ex. 5"
   ]
  },
  {
   "cell_type": "markdown",
   "metadata": {
    "id": "t2Rdf6bECp4X"
   },
   "source": [
    "Redefine your match_element function so that it returns true if the two arguments are equal or either is '?'\n",
    "(the dont_care string). If either argument is a variable (recognized by isvariable function), match_element should\n",
    "return a dictionary with one key/value pair in which the key is the variable and the value is the\n",
    "other argument. Otherwise, it should return false."
   ]
  },
  {
   "cell_type": "code",
   "execution_count": 19,
   "metadata": {
    "id": "merA0uvB3Z14"
   },
   "outputs": [],
   "source": [
    "def match_element(str1, str2):\n",
    "    if str1 == str2:\n",
    "        return True\n",
    "    elif isvariable(str1):\n",
    "        return {str1:str2}\n",
    "    elif isvariable(str2):\n",
    "        return {str2:str1}\n",
    "    elif dont_care(str1) or dont_care(str2):\n",
    "        return True\n",
    "    else: return False"
   ]
  },
  {
   "cell_type": "markdown",
   "metadata": {
    "id": "TBBtncAl5cRK"
   },
   "source": [
    "Test your function by running the cell below:"
   ]
  },
  {
   "cell_type": "code",
   "execution_count": 20,
   "metadata": {
    "id": "Zx_MO3GQ5POf"
   },
   "outputs": [
    {
     "name": "stdout",
     "output_type": "stream",
     "text": [
      "True\n",
      "True\n",
      "{'_X': '5'}\n",
      "{'_X': 'hi'}\n",
      "False\n"
     ]
    }
   ],
   "source": [
    "print( match_element('?', '5') )\n",
    "print( match_element(\"hi\", \"?\") )\n",
    "print( match_element('5', '_X') )\n",
    "print( match_element('_X', \"hi\") )\n",
    "print( match_element('5', \"hi\") )"
   ]
  },
  {
   "cell_type": "markdown",
   "metadata": {
    "id": "CbFmaVJ65Kta"
   },
   "source": [
    "Expected output:\n",
    "\n",
    "True\n",
    "\n",
    "True\n",
    "\n",
    "{'_X': '5'}\n",
    "\n",
    "{'_X': 'hi'}\n",
    "\n",
    "False"
   ]
  },
  {
   "cell_type": "markdown",
   "metadata": {
    "id": "yspIuLbMfn55"
   },
   "source": [
    "# Helper functions (Advanced)\n",
    "\n",
    "In this part, you will be instructed to write all the helper functions to support the Eliza chatbot.\n",
    "\n"
   ]
  },
  {
   "cell_type": "markdown",
   "metadata": {
    "id": "OuC2K2ZjVGvH"
   },
   "source": [
    "**Introduction to the `isinstance()` function:**\n",
    "\n",
    "The `isinstance()` function returns `True` if the specified object is of the specified type, otherwise `False`.\n",
    "\n",
    "``` python\n",
    "isinstance(object, classinfo)\n",
    "```\n",
    "It gurantees the input is the desired type in our functions.\n"
   ]
  },
  {
   "cell_type": "markdown",
   "metadata": {
    "id": "ew-q8AsBXyeW"
   },
   "source": [
    "See how it works by running the code block below:"
   ]
  },
  {
   "cell_type": "code",
   "execution_count": 23,
   "metadata": {
    "id": "zX3lSUaPXk32"
   },
   "outputs": [
    {
     "name": "stdout",
     "output_type": "stream",
     "text": [
      "True\n",
      "True\n"
     ]
    }
   ],
   "source": [
    "print(isinstance(5, int))\n",
    "print(isinstance(\"Hello\", (float, int, str, list, dict, tuple)))\n",
    " #Check if \"Hello\" is one of the types in classinfo"
   ]
  },
  {
   "cell_type": "markdown",
   "metadata": {
    "id": "i7wqLO5EXo0U"
   },
   "source": [
    "Expected output:\n",
    "\n",
    "True\n",
    "\n",
    "True"
   ]
  },
  {
   "cell_type": "markdown",
   "metadata": {
    "id": "6UcjyUrnYSEF"
   },
   "source": [
    "## Step 1. Matching Functions\n",
    "\n",
    "### 1.1 `matchlelt()`\n",
    "We define that a pair of list of strings `pat` and `lst`are matched if **all the elements** can be successfully matched as defined in Ex.5 `match_element()`. \n",
    "\n",
    "For example:\n",
    "> pat=['I', 'am', '*_variable*' ]\n",
    "\n",
    "> lst=['I', 'am', 'happy']\n",
    "\n",
    "Then `pat` and `lst` are matched.\n",
    "\n",
    "Write a function called `matchlelt`, which takes two arguments `pat` and `lst`, and:\n",
    "\n",
    "*   checks if both `pat` and `lst` are **list** using the `isinstance` function. Print an error message if the input is illegal.\n",
    "*   checks if the list `pat` and `lst` are matched\n",
    "\n",
    "\n",
    "Hint:  You may use recursion to compare the elements in `pat` and `lst`. If both lists are empty, that means that they matched all the way through, so return True. If the first element of `pat` and `lst` matches, make a recursive call to the function without the first element of both lists, otherwise return False.\n"
   ]
  },
  {
   "cell_type": "code",
   "execution_count": 35,
   "metadata": {
    "id": "Au4seg1Sf9ps"
   },
   "outputs": [],
   "source": [
    "def matchlelt(pat, lst):\n",
    "    if type(pat) != list and type(lst) != list:\n",
    "        return 'Both arguments are not lists'\n",
    "    elif type(pat) != list:\n",
    "        return 'Argument 1 is not a list'\n",
    "    elif type(lst) != list:\n",
    "        return 'Argument 2 is not a list'\n",
    "    if len(pat) != len(lst):\n",
    "        return 'Lists are not the same length'\n",
    "    for i in range(len(pat)):\n",
    "        if match_element(pat[i], lst[i]):\n",
    "            flag = True\n",
    "        else:\n",
    "            flag = False\n",
    "    return flag"
   ]
  },
  {
   "cell_type": "markdown",
   "metadata": {
    "id": "0eqouJrOZd4d"
   },
   "source": [
    "Test your function by running the cell below:"
   ]
  },
  {
   "cell_type": "code",
   "execution_count": 36,
   "metadata": {
    "id": "c3qX0EagZg4F"
   },
   "outputs": [
    {
     "name": "stdout",
     "output_type": "stream",
     "text": [
      "Both arguments are not lists\n",
      "Argument 1 is not a list\n",
      "Argument 2 is not a list\n",
      "True\n",
      "True\n",
      "False\n"
     ]
    }
   ],
   "source": [
    "print(matchlelt('x','y'))\n",
    "print(matchlelt('x',['y1','y2']))\n",
    "print(matchlelt(['x1','x2'],'y'))\n",
    "print(matchlelt(['x1','x2'],['x1','x2']))\n",
    "print(matchlelt(['x1','x2'],['_y','x2']))\n",
    "print(matchlelt(['x1','x2'],['_y','y2']))"
   ]
  },
  {
   "cell_type": "markdown",
   "metadata": {
    "id": "2lhL-yhVig8b"
   },
   "source": [
    "Expected output:\n",
    "\n",
    "Both arguments are not lists.\n",
    "\n",
    "Argument 1 is not a list.\n",
    "\n",
    "Argument 2 is not a list.\n",
    "\n",
    "True\n",
    "\n",
    "True\n",
    "\n",
    "False"
   ]
  },
  {
   "cell_type": "markdown",
   "metadata": {
    "id": "AYzpDfdUWlYu"
   },
   "source": [
    "### 1.2 `match1()`\n",
    "For a pair of `(pat,lst)` that passes the test in `matchlelt()`, we still need the detailed pairing of variables and its corresponding paired string for further usage.\n",
    "\n",
    "For sucessful matchings:\n",
    "\n",
    "> pat=['I', 'am', '*_variable*' ]\n",
    "\n",
    "> lst=['I', 'am', 'happy']\n",
    "\n",
    "> Output : {'*_variable*': 'happy'}\n",
    "\n",
    "\n",
    "When `(pat,lst)` cannot be matched:\n",
    "\n",
    "\n",
    "> pat=['Are', 'you', '*_variable*' ]\n",
    "\n",
    "> lst=['I', 'am', 'happy']\n",
    "\n",
    "> Output : False\n",
    "\n",
    "\n",
    "If the matching succeeds, the returned value is a **dict** . However, it will return a **bool** (i.e. False) if  fails. Note that having a function that returns multiple types of data is not encouraged in common programming practices. In this case, we will pass a new argument called `pairs` to store the pairing results.\n",
    "\n",
    "Write a function called `match1()`, that:\n",
    "\n",
    "\n",
    "*   receives lists `pat, lst` and a dict `pairs`(to pass the obtained pairing the result in the recursion) as arguments \n",
    "*   return pairs, the obtained dictionary, if `(pat,lst)` can be matched. \n",
    "\n",
    "\n"
   ]
  },
  {
   "cell_type": "code",
   "execution_count": 51,
   "metadata": {
    "id": "4hQebhgiWkFs"
   },
   "outputs": [],
   "source": [
    "def match1(pat, lst, pairs):\n",
    "    if matchlelt(pat, lst):\n",
    "        if type(matchlelt(pat, lst)) == bool:\n",
    "            for i in range(len(pat)):\n",
    "                if isvariable(pat[i]):\n",
    "                    pairs[pat[i]] = lst[i]\n",
    "                if isvariable(lst[i]):\n",
    "                    pairs[lst[i]] = pat[i]\n",
    "        else:\n",
    "            return False\n",
    "    else:\n",
    "        return False\n",
    "    if pairs != {}:\n",
    "        return pairs\n",
    "    "
   ]
  },
  {
   "cell_type": "markdown",
   "metadata": {
    "id": "jHp2PpB_xf6A"
   },
   "source": [
    "Test your function by running the cell below:"
   ]
  },
  {
   "cell_type": "code",
   "execution_count": 52,
   "metadata": {
    "id": "UY4bHYjQxggq"
   },
   "outputs": [
    {
     "name": "stdout",
     "output_type": "stream",
     "text": [
      "{'_X': 'hi'}\n",
      "{'_name1': 'Alice', '_name2': 'Bob'}\n",
      "False\n",
      "False\n"
     ]
    }
   ],
   "source": [
    "\n",
    "print(match1(['_X','x2'],[\"hi\",'x2'],{}))\n",
    "print(match1(['My','name','is','_name1','His','name','is','_name2'],['My','name','is','Alice','His','name','is','Bob'],{}))\n",
    "print(match1(['_X','x2'],['hi','y2'],{}))\n",
    "print(match1(['are','you','good'],[],{}))"
   ]
  },
  {
   "cell_type": "markdown",
   "metadata": {
    "id": "xMNw02qHxpB5"
   },
   "source": [
    "Expected output:\n",
    "\n",
    "{'_X': 'hi'}\n",
    "\n",
    "{'_name1': 'Alice', '_name2': 'Bob'}\n",
    "\n",
    "False\n",
    "\n",
    "False\n",
    "\n",
    "\n"
   ]
  },
  {
   "cell_type": "markdown",
   "metadata": {
    "id": "74XH8oy6ildt"
   },
   "source": [
    "### 1.2 `backtrack_match()`\n",
    "Note that seqvariables are used to denote that the variable may be mapped to a string sequence. It means that, seqvariables may stand for a long string, like 'Alice and Bob' instead of only 'Alice' for variables.\n",
    "\n",
    "Write a function called `backtrack_match()`, that:\n",
    "\n",
    "*   takes a group of arguments, `sv, x, y, sqce, pairs`. `sv` is the seqvariable 'S_X', `x` is what follows 'S_X' in the original list, `y` is the string list to be matched with `[sv,x]`, `sqce` is an empty list to store the resulted string in the recursion, `pairs` is used to store the pairing result.\n",
    "\n",
    "\n",
    "*   return the matched pair for `sv`.\n",
    "\n",
    "\n",
    "For example, to match `['S_X','are','you','good']` with `['Alice','and','Bob','are','you','good']`, here\n",
    "``` python\n",
    "sv = 'S_X'\n",
    "x =  ['are','you','good']\n",
    "y = ['Alice','and','Bob','are','you','good']\n",
    "sqce = []\n",
    "pairs = {}\n",
    "backtrack_match(sv,x,t,sqce,pairs)= {'S_X': 'Alice and Bob'}\n",
    "```\n",
    "\n",
    "All the test cases for this function should begin with a seqvariable."
   ]
  },
  {
   "cell_type": "code",
   "execution_count": 70,
   "metadata": {
    "id": "YoFXMytWxx24"
   },
   "outputs": [],
   "source": [
    "def backtrack_match(sv,x,t,sqce,pairs):\n",
    "    for i in range(len(t)):\n",
    "        if x == t[i:]:\n",
    "            b = ''\n",
    "            for i in t[0:i]:\n",
    "                b = b + ' ' + i\n",
    "            return {sv: b}\n",
    "    return False\n",
    "        "
   ]
  },
  {
   "cell_type": "markdown",
   "metadata": {
    "id": "X8uDudgWx8TZ"
   },
   "source": [
    "Test your function by running the cell below:"
   ]
  },
  {
   "cell_type": "code",
   "execution_count": 71,
   "metadata": {
    "id": "VSz_NEBYi7Ga"
   },
   "outputs": [
    {
     "name": "stdout",
     "output_type": "stream",
     "text": [
      "{'S_X': ' Alice and Bob'}\n",
      "False\n"
     ]
    }
   ],
   "source": [
    "print(backtrack_match('S_X',['are','you','good'],['Alice','and','Bob','are','you','good'],[],{}))\n",
    "print(backtrack_match('S_X',['are','you','good'],['Alice','and','Bob','are','you','ok'],[],{}))\n"
   ]
  },
  {
   "cell_type": "markdown",
   "metadata": {
    "id": "07EdMa6OioFy"
   },
   "source": [
    "Expected Output:\n",
    "\n",
    "{'S_X': 'Alice and Bob'}\n",
    "\n",
    "False"
   ]
  },
  {
   "cell_type": "markdown",
   "metadata": {
    "id": "k6FQuvifZha8"
   },
   "source": [
    "### 1.3 `match2()` and `match()`\n",
    "\n",
    "\n",
    "Based on `match1()`, write a function called `match2()`, which handles both variables and seqvariables, and returns all the pairing results. \n",
    "\n",
    "*   `match2()` takes arguments `(pat,lst, pairs)`\n",
    "*   `match2()` returns the final pairing dictionary, `pairs`\n",
    "*   `match2()` returns `False` if the matching failed.\n",
    "\n",
    "And write a function called `match()`:\n",
    "*   `match()` takes arguments `(pat,lst)`\n",
    "*   Initialize `pairs` as an emtpy dict\n",
    "*   Call `match1` with `(pat,lst,pairs)` and start the recursion\n"
   ]
  },
  {
   "cell_type": "code",
   "execution_count": 260,
   "metadata": {
    "id": "yjFdVrzsxan0"
   },
   "outputs": [],
   "source": [
    "def match(pat, lst):\n",
    "    l = 0\n",
    "    pairs = {}\n",
    "    flag = False\n",
    "    for i in pat:\n",
    "        if isseqvariable(i):\n",
    "            flag = True\n",
    "    if not flag:\n",
    "        for i in range(len(pat)):\n",
    "            if isvariable(pat[i]):\n",
    "                pairs[pat[i]] = lst[i]\n",
    "    else:\n",
    "        g = ''\n",
    "        for o in range(len(pat)):\n",
    "            i = pat[o]\n",
    "            if isvariable(i):\n",
    "                pairs[i] = lst[o+l]\n",
    "            if isseqvariable(i):\n",
    "                t = lst[o-l:]\n",
    "                x = pat[o+1:]\n",
    "                for i in range(len(t)):\n",
    "                    if x == t[i:]:\n",
    "                        b = ''\n",
    "                        for i in t[0:i]:\n",
    "                            b = b + ' ' + i\n",
    "                        pairs[pat[o]] = b\n",
    "                        l += len(b.split())\n",
    "    if pairs != {}:\n",
    "        return pairs\n",
    "    else: return False"
   ]
  },
  {
   "cell_type": "markdown",
   "metadata": {
    "id": "THszytLlgOeE"
   },
   "source": [
    "Test your function by running the cell below:"
   ]
  },
  {
   "cell_type": "code",
   "execution_count": 369,
   "metadata": {
    "id": "WjPQBdVMgRSU"
   },
   "outputs": [
    {
     "name": "stdout",
     "output_type": "stream",
     "text": [
      "{'_X': 'teacher', '_y': 'excellent'}\n",
      "{'S_X': 'cheerful and excited'}\n",
      "{'S_X': 'cheerful and excited x'}\n"
     ]
    }
   ],
   "source": [
    "print(match(['my','_X', 'thinks', 'i', 'am', '_y'],['my','teacher', 'thinks', 'i', 'am', 'excellent']))\n",
    "print(match(['i', 'feel', 'S_X','now'],['i', 'feel', 'cheerful','and','excited','now']))\n",
    "print(match(['i', 'feel', 'S_X','now'],['i', 'feel', 'cheerful','and','excited','now','x']))"
   ]
  },
  {
   "cell_type": "markdown",
   "metadata": {
    "id": "8nmNOCtlhNoz"
   },
   "source": [
    "Expected Output:\n",
    "\n",
    "{'_X': 'teacher', '_y': 'excellent'}\n",
    "\n",
    "{'S_X': 'cheerful and excited'}\n",
    "\n",
    "False"
   ]
  },
  {
   "cell_type": "markdown",
   "metadata": {
    "id": "nQSuZVIcvD9S"
   },
   "source": [
    "\n",
    "\n",
    "## Step 2. Mutation Functions\n",
    "\n",
    "\n",
    "\n",
    "\n"
   ]
  },
  {
   "cell_type": "markdown",
   "metadata": {
    "id": "BOmq3p7Z6ANI"
   },
   "source": [
    "### 2.1 Bounding function\n",
    "Now we have a dictionary of all the variables and their corresponding values. Write a function called `bound_to()`. Given a dictionary and the desired variable `x`, or seqvariable `S_X`,  `bound_to()`will return its corresponding value in the dictionary.\n"
   ]
  },
  {
   "cell_type": "code",
   "execution_count": 110,
   "metadata": {
    "id": "m9zTNOZNbgAD"
   },
   "outputs": [],
   "source": [
    "def bound_to(x, pairs):\n",
    "    for key in pairs:\n",
    "        value = pairs[key]\n",
    "        if key == x:\n",
    "            return value\n",
    "    return False"
   ]
  },
  {
   "cell_type": "markdown",
   "metadata": {
    "id": "f84nM7VZbmzF"
   },
   "source": [
    "Test your function by running the cell below:"
   ]
  },
  {
   "cell_type": "code",
   "execution_count": 111,
   "metadata": {
    "id": "LmT901txbmSM"
   },
   "outputs": [
    {
     "name": "stdout",
     "output_type": "stream",
     "text": [
      "Alice\n",
      "Bob\n",
      "False\n",
      "Alice and Bob\n"
     ]
    }
   ],
   "source": [
    "print(bound_to('_name1',{'_name1': 'Alice', '_name2':'Bob'}))\n",
    "print(bound_to('_name2',{'_name1': 'Alice', '_name2':'Bob'}))\n",
    "print(bound_to('_name3',{'_name1': 'Alice', '_name2':'Bob'}))\n",
    "print(bound_to('S_X',{'_name1': 'Alice', '_name2':'Bob','S_X':'Alice and Bob'}))"
   ]
  },
  {
   "cell_type": "markdown",
   "metadata": {
    "id": "aem-nd4dc9Nr"
   },
   "source": [
    "Expected Output:\n",
    "\n",
    "Alice\n",
    "\n",
    "Bob\n",
    "\n",
    "False\n",
    "\n",
    "Alice and Bob\n",
    "\n",
    "### 2.2 Substitution Function\n",
    "\n",
    "With `bound_to()`, write a function called `substitute()`, which takes a list and a dictionary as its arguments. `substitute()` look for the value of each variable in the list, and replace it with the value stored in the dictionary."
   ]
  },
  {
   "cell_type": "code",
   "execution_count": 116,
   "metadata": {
    "id": "srbHwxMRbSnk"
   },
   "outputs": [],
   "source": [
    "def substitute(lst, pairs):\n",
    "    for o in range(len(lst)):\n",
    "        i = lst[o]\n",
    "        if isvariable(i) or isseqvariable(i):\n",
    "            lst[o] = bound_to(i, pairs)\n",
    "    return lst"
   ]
  },
  {
   "cell_type": "markdown",
   "metadata": {
    "id": "v7IWzfhRdO6K"
   },
   "source": [
    "Test your function by running the cell below:"
   ]
  },
  {
   "cell_type": "code",
   "execution_count": 117,
   "metadata": {
    "id": "rNFuomimdPR6"
   },
   "outputs": [
    {
     "name": "stdout",
     "output_type": "stream",
     "text": [
      "['My', 'name', 'is', 'Alice']\n",
      "['Our', 'name', 'is', 'Alice and Bob']\n"
     ]
    }
   ],
   "source": [
    "print(substitute(['My','name','is','_name1'],{'_name1': 'Alice', '_name2':'Bob'}))\n",
    "print(substitute(['Our','name','is','S_X'],{'_name1': 'Alice', '_name2':'Bob','S_X':'Alice and Bob'}))"
   ]
  },
  {
   "cell_type": "markdown",
   "metadata": {
    "id": "_nwfO51Xdi3B"
   },
   "source": [
    "Expected Output:\n",
    "\n",
    "['My', 'name', 'is', 'Alice']\n",
    "\n",
    "['Our', 'name', 'is', 'Alice and Bob']\n"
   ]
  },
  {
   "cell_type": "markdown",
   "metadata": {
    "id": "-uLOW8FgDKGW"
   },
   "source": [
    "## Step 3. Rule Functions\n",
    "\n",
    " \n",
    "We would like to include some **rules** for our chatbot. A rule consists of a predefined **pattern** and a **response**. Take the following chat as an example:\n",
    "\n",
    "> <ins>User input</ins>: I feel unhappy.\n",
    "\n",
    "> <ins>Chatboot Output</ins>: Why do you think you feel unhappy ?\n",
    "\n",
    "\n",
    "In the example above, we can write the `[pattern]` and `[response]` as:\n",
    "\n",
    "> <ins>Pattern</ins> : I feel S_X\n",
    "\n",
    "> <ins>Response</ins>: Why do you think you feel S_X ?\n",
    "\n",
    "Recall that the S_X here stands for a seqvariable.\n",
    "\n"
   ]
  },
  {
   "cell_type": "markdown",
   "metadata": {
    "id": "yqNYyl2tIo7l"
   },
   "source": [
    "\n",
    "### 3.1 `isrule(), lhs(), rhs()`\n",
    "\n",
    "A **rule** is defined as:\n",
    "\n",
    "``` python\n",
    "r = ['rule', id, [pattern], [response]]\n",
    "```\n",
    "\n"
   ]
  },
  {
   "cell_type": "markdown",
   "metadata": {
    "id": "xdzhMOqs6ANL"
   },
   "source": [
    "#### 3.1.1 Write a bool function called `isrule()` that checks if the argument satisfies the definition of a rule:\n",
    "\n",
    "The function will take a rule as an argument, and return True if the first element is the string ‘rule’, and if the third and fourth elements are lists. Otherwise, it should return False."
   ]
  },
  {
   "cell_type": "code",
   "execution_count": 123,
   "metadata": {
    "id": "qYgbHL7Q_frd"
   },
   "outputs": [],
   "source": [
    "def isrule(r):\n",
    "    if len(r) == 4:\n",
    "        if r[0] == 'rule' and type(r[1]) == int and type(r[2]) == list and type(r[3]) == list:\n",
    "            return True\n",
    "        else: return False\n",
    "    else: return False"
   ]
  },
  {
   "cell_type": "markdown",
   "metadata": {
    "id": "n3DIPp7k_ha2"
   },
   "source": [
    "Test your function by running the cell below:"
   ]
  },
  {
   "cell_type": "code",
   "execution_count": 124,
   "metadata": {
    "id": "KPDqhAQ__gxV"
   },
   "outputs": [
    {
     "name": "stdout",
     "output_type": "stream",
     "text": [
      "True\n",
      "False\n",
      "False\n",
      "False\n",
      "False\n"
     ]
    }
   ],
   "source": [
    "r1 = ['rule',1, ['my','_X', 'thinks', 'i', 'am', '_y'], ['Do you think you are', '_y', '?']]\n",
    "r2 = ['']\n",
    "r3 = []\n",
    "r4 = ['rule',1,'x',['Do you think you are', '_y', '?']]\n",
    "r5 = ['rule',1,5,['Do you think you are', '_y', '?']]\n",
    "\n",
    "print(isrule(r1))\n",
    "print(isrule(r2))\n",
    "print(isrule(r3))\n",
    "print(isrule(r4))\n",
    "print(isrule(r5))"
   ]
  },
  {
   "cell_type": "markdown",
   "metadata": {
    "id": "5t4stJXzABEF"
   },
   "source": [
    "Expected Output:\n",
    "\n",
    "True\n",
    "\n",
    "False\n",
    "\n",
    "False\n",
    "\n",
    "False\n",
    "\n",
    "False"
   ]
  },
  {
   "cell_type": "markdown",
   "metadata": {
    "id": "I4G40Sym6ANM"
   },
   "source": [
    "#### 3.1.2 Add a function called `lhs` that takes a rule as an argument and returns the left hand side of the rule, i.e. `pattern`"
   ]
  },
  {
   "cell_type": "code",
   "execution_count": 125,
   "metadata": {
    "id": "ywjZxR4s6ANN"
   },
   "outputs": [],
   "source": [
    "def lhs(r):\n",
    "    if isrule(r):\n",
    "        return r[2]\n",
    "    else: return False"
   ]
  },
  {
   "cell_type": "markdown",
   "metadata": {
    "id": "TuYSxVge6ANN"
   },
   "source": [
    "Test your function by running the cell below:"
   ]
  },
  {
   "cell_type": "code",
   "execution_count": 126,
   "metadata": {
    "id": "mlKGRAgV6ANN"
   },
   "outputs": [
    {
     "name": "stdout",
     "output_type": "stream",
     "text": [
      "['my', '_X', 'thinks', 'i', 'am', '_y']\n"
     ]
    }
   ],
   "source": [
    "print(lhs(r1))"
   ]
  },
  {
   "cell_type": "markdown",
   "metadata": {
    "id": "z9zKICCS6ANN"
   },
   "source": [
    "Expected Output:\n",
    "    \n",
    "['my', '_X', 'thinks', 'i', 'am', '_y']"
   ]
  },
  {
   "cell_type": "markdown",
   "metadata": {
    "id": "ia6oFpSU6ANO"
   },
   "source": [
    "#### 3.1.3 Add a function called `rhs` that takes a rule as an argument and returns the right hand side of the rule, i.e. `response`"
   ]
  },
  {
   "cell_type": "code",
   "execution_count": 127,
   "metadata": {
    "id": "svWUAAo46ANO"
   },
   "outputs": [],
   "source": [
    "def rhs(r):\n",
    "    if isrule(r):\n",
    "        return r[3]\n",
    "    else: return False"
   ]
  },
  {
   "cell_type": "markdown",
   "metadata": {
    "id": "QLdPcR2l6ANO"
   },
   "source": [
    "Test your function by running the cell below:"
   ]
  },
  {
   "cell_type": "code",
   "execution_count": 128,
   "metadata": {
    "id": "uD0O0un-6ANO"
   },
   "outputs": [
    {
     "name": "stdout",
     "output_type": "stream",
     "text": [
      "['Do you think you are', '_y', '?']\n"
     ]
    }
   ],
   "source": [
    "print(rhs(r1))"
   ]
  },
  {
   "cell_type": "markdown",
   "metadata": {
    "id": "9uOvvt-M6ANO"
   },
   "source": [
    "Expected Output:\n",
    "    \n",
    "['Do you think you are', '_y', '?']"
   ]
  },
  {
   "cell_type": "markdown",
   "metadata": {
    "id": "sdrTgx3lEv7z"
   },
   "source": [
    "### 3.2 `fire_rule()`\n",
    "\n",
    "Write a function called `fire_rule()`, that takes the `pattern`, the desired `response`, and the variable dictionary as arguments\n",
    "\n",
    "\n",
    "*   Return the final response with all the variables replaced by its value\n",
    "\n"
   ]
  },
  {
   "cell_type": "code",
   "execution_count": 130,
   "metadata": {
    "id": "anBX_y2zHzfs"
   },
   "outputs": [],
   "source": [
    "def fire_rule(rhs, lhs, pairs):\n",
    "    return substitute(lhs, pairs)"
   ]
  },
  {
   "cell_type": "markdown",
   "metadata": {
    "id": "4DkcGke1ICPs"
   },
   "source": [
    "Test your function by running the cell below:"
   ]
  },
  {
   "cell_type": "code",
   "execution_count": 131,
   "metadata": {
    "id": "UQCIVmyBIGaj"
   },
   "outputs": [
    {
     "name": "stdout",
     "output_type": "stream",
     "text": [
      "['Hello', 'Alice', 'and', 'Bob']\n",
      "['Hello', 'Alice and Bob']\n"
     ]
    }
   ],
   "source": [
    "print(fire_rule(['My','name','is','_name1','He','is','Bob'],['Hello','_name1','and','_name2'],{'_name1':'Alice','_name2':'Bob'}))\n",
    "print(fire_rule(['Our','name','is','S_X'],['Hello','S_X'],{'S_X':'Alice and Bob'}))"
   ]
  },
  {
   "cell_type": "markdown",
   "metadata": {
    "id": "mPnOnmb_is9b"
   },
   "source": [
    "Expected Output:\n",
    "\n",
    "['Hello', 'Alice', 'and', 'Bob']\n",
    "\n",
    "['Hello', 'Alice and Bob']\n"
   ]
  },
  {
   "cell_type": "markdown",
   "metadata": {
    "id": "mokVQv8MEup8"
   },
   "source": [
    "### 3.3 `apply_rule()` \n",
    "\n",
    "Wrtie a function called `apply_rule`, that:\n",
    "\n",
    "\n",
    "*   takes the user input `pat`, and the defined rule `rule` as arguments\n",
    "*   returns the final response as defined in `rule`, if the rule can be applied to `pat`\n",
    "\n"
   ]
  },
  {
   "cell_type": "code",
   "execution_count": 257,
   "metadata": {},
   "outputs": [],
   "source": [
    "def match(pat, lst):\n",
    "    l = 0\n",
    "    pairs = {}\n",
    "    flag = False\n",
    "    for i in pat:\n",
    "        if isseqvariable(i):\n",
    "            flag = True\n",
    "    if not flag:\n",
    "        for i in range(len(pat)):\n",
    "            if isvariable(pat[i]):\n",
    "                pairs[pat[i]] = lst[i]\n",
    "    else:\n",
    "        g = ''\n",
    "        for o in range(len(lst)):\n",
    "            #print(o-l)\n",
    "            i = pat[o-l]\n",
    "            if isvariable(i):\n",
    "                pairs[i] = lst[o]\n",
    "            if isseqvariable(i):\n",
    "                #print('hi')\n",
    "                t = lst[o:]\n",
    "                x = pat[o+1-l:]\n",
    "                #print(x, t)\n",
    "                for i in range(len(t)):\n",
    "                    gflag = True\n",
    "                    if len(t[i:]) == len(x):\n",
    "                        for pp in range(len(t[i:])):\n",
    "                            p = t[i:][pp]\n",
    "                            if x[pp] == p or isvariable(x[pp]):\n",
    "                                qqqq = 0\n",
    "                            else:\n",
    "                                gflag = False\n",
    "                    if gflag:\n",
    "                        if len(x) == len(t[i:]):\n",
    "                            b = ''\n",
    "                            for i in t[0:i]:\n",
    "                                b = b + ' ' + i\n",
    "                            b = b.strip()\n",
    "                            #print(pat[o-l], b)\n",
    "                            pairs[pat[o-l]] = b\n",
    "                            l += len(b.split())\n",
    "    if pairs != {}:\n",
    "        return pairs\n",
    "    else: return False"
   ]
  },
  {
   "cell_type": "code",
   "execution_count": 366,
   "metadata": {},
   "outputs": [],
   "source": [
    "# In1 has variables and seqvariables\n",
    "def match(in1, in2):\n",
    "    out = {}\n",
    "    seqvarcount = 0\n",
    "    varcount = 0\n",
    "    flag = True\n",
    "    for i in in1:\n",
    "        if isseqvariable(i):\n",
    "            flag = False\n",
    "            seqvarcount += 1\n",
    "        if isvariable(i):\n",
    "            varcount += 1\n",
    "    if flag:\n",
    "        return matchv(in1, in2, out)\n",
    "    if varcount == 0 and seqvarcount == 1:\n",
    "        return match1sv(in1, in2, out)\n",
    "    if varcount == 1 and seqvarcount == 1:\n",
    "        return matchvsv(in1, in2, out)\n",
    "#Working\n",
    "def matchv(in1, in2, out):\n",
    "    if type(in1) == list and type(in2) == list and len(in1) == len(in2):\n",
    "        for i in range(len(in1)):\n",
    "            if isvariable(in1[i]):\n",
    "                out[in1[i]] = in2[i]\n",
    "        return out\n",
    "    else:\n",
    "        return False\n",
    "def match1sv(in1, in2, out):\n",
    "    if type(in1) == list and type(in2) == list:\n",
    "        for i in range(len(in1)):\n",
    "            if isseqvariable(in1[i]):\n",
    "                seqvarspot = i\n",
    "        in1b = in1[seqvarspot+1:]\n",
    "        for i in range(len(in2)+1):\n",
    "            if in2[i:] == in1b:\n",
    "                global in2b\n",
    "                in2b = in2[i:]\n",
    "                break\n",
    "        in1f = in1[:seqvarspot]\n",
    "        for i in range(len(in2)):\n",
    "            if in2[:i] == in1f:\n",
    "                in2f = in2[:i]\n",
    "                break\n",
    "        seqv = in2\n",
    "        for i in in2f:\n",
    "            seqv.remove(i)\n",
    "        for i in in2b:\n",
    "            seqv.remove(i)\n",
    "        b = ''\n",
    "        for i in seqv:\n",
    "            b = b + ' ' + i\n",
    "        out[in1[seqvarspot]] = b.strip()\n",
    "        return out\n",
    "    else: return False\n",
    "def matche(in1, in2):\n",
    "    global flag\n",
    "    flag = False\n",
    "    if type(in1) == list and type(in2) == list and len(in1) == len(in2):\n",
    "        for i in range(len(in1)):\n",
    "            i1 = in1[i]\n",
    "            i2 = in2[i]\n",
    "            if i1 == i2 or isvariable(i1):\n",
    "                flag = True\n",
    "            else:\n",
    "                flag = False\n",
    "    else:\n",
    "        flag = False\n",
    "    return flag\n",
    "def matchvsv(in1, in2, out):\n",
    "    if type(in1) == list and type(in2) == list:\n",
    "        for i in range(len(in1)):\n",
    "            if isseqvariable(in1[i]):\n",
    "                seqvarspot = i\n",
    "        in1f = in1[:seqvarspot]\n",
    "        for i in range(len(in2)+1):\n",
    "            if matche(in1f, in2[:i]):\n",
    "                global in21\n",
    "                in21 = i\n",
    "                break\n",
    "        if in1f == []:\n",
    "            in21 = 0\n",
    "        in1b = in1[seqvarspot + 1:]\n",
    "        for i in range(len(in2)+1):\n",
    "            if matche(in1b, in2[i:]):\n",
    "                global in22\n",
    "                in22 = i\n",
    "                break\n",
    "        if in1b == []:\n",
    "            in22 = 0\n",
    "        seqv = in2[in21:in22]\n",
    "        b = ''\n",
    "        for i in seqv:\n",
    "            b = b + ' ' + i\n",
    "        b = b.strip()\n",
    "        out[in1[seqvarspot]] = b\n",
    "        n = in1f + seqv + in1b\n",
    "        out = matchv(n, in2, out)\n",
    "        return out\n",
    "    else: return False"
   ]
  },
  {
   "cell_type": "code",
   "execution_count": 376,
   "metadata": {
    "id": "TT3bMR_3lp9X"
   },
   "outputs": [],
   "source": [
    "def apply_rule(pat, r):\n",
    "    if isrule(r):\n",
    "        s = match(lhs(r), pat)\n",
    "        if s: return substitute(rhs(r), s)"
   ]
  },
  {
   "cell_type": "markdown",
   "metadata": {
    "id": "x9SuU9P8LEU0"
   },
   "source": [
    "Test your function by running the cell below:"
   ]
  },
  {
   "cell_type": "code",
   "execution_count": 323,
   "metadata": {},
   "outputs": [
    {
     "name": "stdout",
     "output_type": "stream",
     "text": [
      "[2, 3]\n",
      "[0, 1, 2, 3, 4, 5]\n",
      "[4, 5, 6]\n"
     ]
    }
   ],
   "source": [
    "test = [0, 1, 2, 3, 4, 5, 6]\n",
    "print(test[2:4])\n",
    "print(test[:2])\n",
    "print(test[4:])"
   ]
  },
  {
   "cell_type": "code",
   "execution_count": 377,
   "metadata": {
    "id": "L7fQixMjrPD6",
    "scrolled": true
   },
   "outputs": [
    {
     "name": "stdout",
     "output_type": "stream",
     "text": [
      "['Do you think you are', 'excellent', '?']\n",
      "['Do you think you are', 'outgoing', '?']\n",
      "['Why do you think you feel', 'cheerful and excited', '?']\n"
     ]
    }
   ],
   "source": [
    "r1 = ['rule', 1, ['my','_X', 'thinks', 'i', 'am', '_y'], ['Do you think you are', '_y', '?']]\n",
    "r2 = ['rule', 2, ['S_X', 'thinks', 'i', 'am', '_y'], ['Do you think you are', '_y', '?']]\n",
    "r3 = ['rule', 3, ['i', 'feel', 'S_X'], ['Why do you think you feel', 'S_X', '?']]\n",
    "print(apply_rule(['my','teacher', 'thinks', 'i', 'am', 'excellent'],r1))\n",
    "print(apply_rule(['Alice','and','Bob','thinks', 'i', 'am', 'outgoing'],r2))\n",
    "print(apply_rule(['i', 'feel', 'cheerful', 'and','excited'],r3))\n"
   ]
  },
  {
   "cell_type": "markdown",
   "metadata": {
    "id": "XE0hZHHCrSZQ"
   },
   "source": [
    "Expected Output:\n",
    "\n",
    "['Do you think you are', 'excellent', '?']\n",
    "\n",
    "['Do you think you are', 'outgoing', '?']\n",
    "\n",
    "['Why do you think you feel', 'cheerful and excited', '?']"
   ]
  },
  {
   "cell_type": "markdown",
   "metadata": {
    "id": "bXRDH7FktlH7"
   },
   "source": [
    "### 3.4 `apply_rules()`\n",
    "\n",
    "Write a function called `apply_rules`, that:\n",
    "\n",
    "*   takes a list of rules, and the user input as its arguments\n",
    "*   returns the response if any of the rules can be applied to the user input sentence.\n",
    "\n"
   ]
  },
  {
   "cell_type": "code",
   "execution_count": 373,
   "metadata": {
    "id": "IL7qK7c3rNHz"
   },
   "outputs": [],
   "source": [
    "def apply_rules(in1, rls):\n",
    "    for i in rls:\n",
    "        b = apply_rule(in1, i)\n",
    "    return b"
   ]
  },
  {
   "cell_type": "markdown",
   "metadata": {
    "id": "l0G84uHAuii7"
   },
   "source": [
    "Test your function by running the cell below:"
   ]
  },
  {
   "cell_type": "code",
   "execution_count": 378,
   "metadata": {
    "id": "UXPIdWPiLHfL"
   },
   "outputs": [
    {
     "ename": "UnboundLocalError",
     "evalue": "local variable 'in2f' referenced before assignment",
     "output_type": "error",
     "traceback": [
      "\u001b[1;31m---------------------------------------------------------------------------\u001b[0m",
      "\u001b[1;31mUnboundLocalError\u001b[0m                         Traceback (most recent call last)",
      "\u001b[1;32mC:\\Users\\ADMINI~1\\AppData\\Local\\Temp/ipykernel_20860/1850624042.py\u001b[0m in \u001b[0;36m<module>\u001b[1;34m\u001b[0m\n\u001b[0;32m      7\u001b[0m \u001b[0mrule_lst\u001b[0m \u001b[1;33m=\u001b[0m \u001b[1;33m[\u001b[0m\u001b[0mr1\u001b[0m\u001b[1;33m,\u001b[0m \u001b[0mr2\u001b[0m\u001b[1;33m,\u001b[0m \u001b[0mr3\u001b[0m\u001b[1;33m,\u001b[0m \u001b[0mr4\u001b[0m\u001b[1;33m,\u001b[0m \u001b[0mr5\u001b[0m\u001b[1;33m,\u001b[0m \u001b[0mr6\u001b[0m\u001b[1;33m]\u001b[0m\u001b[1;33m\u001b[0m\u001b[1;33m\u001b[0m\u001b[0m\n\u001b[0;32m      8\u001b[0m \u001b[1;33m\u001b[0m\u001b[0m\n\u001b[1;32m----> 9\u001b[1;33m \u001b[0mprint\u001b[0m\u001b[1;33m(\u001b[0m\u001b[0mapply_rules\u001b[0m\u001b[1;33m(\u001b[0m\u001b[1;34m'hello world'\u001b[0m\u001b[1;33m.\u001b[0m\u001b[0mlower\u001b[0m\u001b[1;33m(\u001b[0m\u001b[1;33m)\u001b[0m\u001b[1;33m.\u001b[0m\u001b[0msplit\u001b[0m\u001b[1;33m(\u001b[0m\u001b[1;33m)\u001b[0m\u001b[1;33m,\u001b[0m \u001b[0mrule_lst\u001b[0m\u001b[1;33m)\u001b[0m\u001b[1;33m)\u001b[0m\u001b[1;33m\u001b[0m\u001b[1;33m\u001b[0m\u001b[0m\n\u001b[0m\u001b[0;32m     10\u001b[0m \u001b[0mprint\u001b[0m\u001b[1;33m(\u001b[0m\u001b[0mapply_rules\u001b[0m\u001b[1;33m(\u001b[0m\u001b[1;34m'my dog made me happpy'\u001b[0m\u001b[1;33m.\u001b[0m\u001b[0mlower\u001b[0m\u001b[1;33m(\u001b[0m\u001b[1;33m)\u001b[0m\u001b[1;33m.\u001b[0m\u001b[0msplit\u001b[0m\u001b[1;33m(\u001b[0m\u001b[1;33m)\u001b[0m\u001b[1;33m,\u001b[0m \u001b[0mrule_lst\u001b[0m\u001b[1;33m)\u001b[0m\u001b[1;33m)\u001b[0m\u001b[1;33m\u001b[0m\u001b[1;33m\u001b[0m\u001b[0m\n\u001b[0;32m     11\u001b[0m \u001b[0mprint\u001b[0m\u001b[1;33m(\u001b[0m\u001b[0mapply_rules\u001b[0m\u001b[1;33m(\u001b[0m\u001b[1;34m'I feel cheerful and excited now'\u001b[0m\u001b[1;33m.\u001b[0m\u001b[0mlower\u001b[0m\u001b[1;33m(\u001b[0m\u001b[1;33m)\u001b[0m\u001b[1;33m.\u001b[0m\u001b[0msplit\u001b[0m\u001b[1;33m(\u001b[0m\u001b[1;33m)\u001b[0m\u001b[1;33m,\u001b[0m \u001b[0mrule_lst\u001b[0m\u001b[1;33m)\u001b[0m\u001b[1;33m)\u001b[0m\u001b[1;33m\u001b[0m\u001b[1;33m\u001b[0m\u001b[0m\n",
      "\u001b[1;32mC:\\Users\\ADMINI~1\\AppData\\Local\\Temp/ipykernel_20860/119502768.py\u001b[0m in \u001b[0;36mapply_rules\u001b[1;34m(in1, rls)\u001b[0m\n\u001b[0;32m      1\u001b[0m \u001b[1;32mdef\u001b[0m \u001b[0mapply_rules\u001b[0m\u001b[1;33m(\u001b[0m\u001b[0min1\u001b[0m\u001b[1;33m,\u001b[0m \u001b[0mrls\u001b[0m\u001b[1;33m)\u001b[0m\u001b[1;33m:\u001b[0m\u001b[1;33m\u001b[0m\u001b[1;33m\u001b[0m\u001b[0m\n\u001b[0;32m      2\u001b[0m     \u001b[1;32mfor\u001b[0m \u001b[0mi\u001b[0m \u001b[1;32min\u001b[0m \u001b[0mrls\u001b[0m\u001b[1;33m:\u001b[0m\u001b[1;33m\u001b[0m\u001b[1;33m\u001b[0m\u001b[0m\n\u001b[1;32m----> 3\u001b[1;33m         \u001b[0mb\u001b[0m \u001b[1;33m=\u001b[0m \u001b[0mapply_rule\u001b[0m\u001b[1;33m(\u001b[0m\u001b[0min1\u001b[0m\u001b[1;33m,\u001b[0m \u001b[0mi\u001b[0m\u001b[1;33m)\u001b[0m\u001b[1;33m\u001b[0m\u001b[1;33m\u001b[0m\u001b[0m\n\u001b[0m\u001b[0;32m      4\u001b[0m     \u001b[1;32mreturn\u001b[0m \u001b[0mb\u001b[0m\u001b[1;33m\u001b[0m\u001b[1;33m\u001b[0m\u001b[0m\n",
      "\u001b[1;32mC:\\Users\\ADMINI~1\\AppData\\Local\\Temp/ipykernel_20860/587563532.py\u001b[0m in \u001b[0;36mapply_rule\u001b[1;34m(pat, r)\u001b[0m\n\u001b[0;32m      1\u001b[0m \u001b[1;32mdef\u001b[0m \u001b[0mapply_rule\u001b[0m\u001b[1;33m(\u001b[0m\u001b[0mpat\u001b[0m\u001b[1;33m,\u001b[0m \u001b[0mr\u001b[0m\u001b[1;33m)\u001b[0m\u001b[1;33m:\u001b[0m\u001b[1;33m\u001b[0m\u001b[1;33m\u001b[0m\u001b[0m\n\u001b[0;32m      2\u001b[0m     \u001b[1;32mif\u001b[0m \u001b[0misrule\u001b[0m\u001b[1;33m(\u001b[0m\u001b[0mr\u001b[0m\u001b[1;33m)\u001b[0m\u001b[1;33m:\u001b[0m\u001b[1;33m\u001b[0m\u001b[1;33m\u001b[0m\u001b[0m\n\u001b[1;32m----> 3\u001b[1;33m         \u001b[0ms\u001b[0m \u001b[1;33m=\u001b[0m \u001b[0mmatch\u001b[0m\u001b[1;33m(\u001b[0m\u001b[0mlhs\u001b[0m\u001b[1;33m(\u001b[0m\u001b[0mr\u001b[0m\u001b[1;33m)\u001b[0m\u001b[1;33m,\u001b[0m \u001b[0mpat\u001b[0m\u001b[1;33m)\u001b[0m\u001b[1;33m\u001b[0m\u001b[1;33m\u001b[0m\u001b[0m\n\u001b[0m\u001b[0;32m      4\u001b[0m         \u001b[1;32mif\u001b[0m \u001b[0ms\u001b[0m\u001b[1;33m:\u001b[0m \u001b[1;32mreturn\u001b[0m \u001b[0msubstitute\u001b[0m\u001b[1;33m(\u001b[0m\u001b[0mrhs\u001b[0m\u001b[1;33m(\u001b[0m\u001b[0mr\u001b[0m\u001b[1;33m)\u001b[0m\u001b[1;33m,\u001b[0m \u001b[0ms\u001b[0m\u001b[1;33m)\u001b[0m\u001b[1;33m\u001b[0m\u001b[1;33m\u001b[0m\u001b[0m\n",
      "\u001b[1;32mC:\\Users\\ADMINI~1\\AppData\\Local\\Temp/ipykernel_20860/3170571082.py\u001b[0m in \u001b[0;36mmatch\u001b[1;34m(in1, in2)\u001b[0m\n\u001b[0;32m     14\u001b[0m         \u001b[1;32mreturn\u001b[0m \u001b[0mmatchv\u001b[0m\u001b[1;33m(\u001b[0m\u001b[0min1\u001b[0m\u001b[1;33m,\u001b[0m \u001b[0min2\u001b[0m\u001b[1;33m,\u001b[0m \u001b[0mout\u001b[0m\u001b[1;33m)\u001b[0m\u001b[1;33m\u001b[0m\u001b[1;33m\u001b[0m\u001b[0m\n\u001b[0;32m     15\u001b[0m     \u001b[1;32mif\u001b[0m \u001b[0mvarcount\u001b[0m \u001b[1;33m==\u001b[0m \u001b[1;36m0\u001b[0m \u001b[1;32mand\u001b[0m \u001b[0mseqvarcount\u001b[0m \u001b[1;33m==\u001b[0m \u001b[1;36m1\u001b[0m\u001b[1;33m:\u001b[0m\u001b[1;33m\u001b[0m\u001b[1;33m\u001b[0m\u001b[0m\n\u001b[1;32m---> 16\u001b[1;33m         \u001b[1;32mreturn\u001b[0m \u001b[0mmatch1sv\u001b[0m\u001b[1;33m(\u001b[0m\u001b[0min1\u001b[0m\u001b[1;33m,\u001b[0m \u001b[0min2\u001b[0m\u001b[1;33m,\u001b[0m \u001b[0mout\u001b[0m\u001b[1;33m)\u001b[0m\u001b[1;33m\u001b[0m\u001b[1;33m\u001b[0m\u001b[0m\n\u001b[0m\u001b[0;32m     17\u001b[0m     \u001b[1;32mif\u001b[0m \u001b[0mvarcount\u001b[0m \u001b[1;33m==\u001b[0m \u001b[1;36m1\u001b[0m \u001b[1;32mand\u001b[0m \u001b[0mseqvarcount\u001b[0m \u001b[1;33m==\u001b[0m \u001b[1;36m1\u001b[0m\u001b[1;33m:\u001b[0m\u001b[1;33m\u001b[0m\u001b[1;33m\u001b[0m\u001b[0m\n\u001b[0;32m     18\u001b[0m         \u001b[1;32mreturn\u001b[0m \u001b[0mmatchvsv\u001b[0m\u001b[1;33m(\u001b[0m\u001b[0min1\u001b[0m\u001b[1;33m,\u001b[0m \u001b[0min2\u001b[0m\u001b[1;33m,\u001b[0m \u001b[0mout\u001b[0m\u001b[1;33m)\u001b[0m\u001b[1;33m\u001b[0m\u001b[1;33m\u001b[0m\u001b[0m\n",
      "\u001b[1;32mC:\\Users\\ADMINI~1\\AppData\\Local\\Temp/ipykernel_20860/3170571082.py\u001b[0m in \u001b[0;36mmatch1sv\u001b[1;34m(in1, in2, out)\u001b[0m\n\u001b[0;32m     43\u001b[0m                 \u001b[1;32mbreak\u001b[0m\u001b[1;33m\u001b[0m\u001b[1;33m\u001b[0m\u001b[0m\n\u001b[0;32m     44\u001b[0m         \u001b[0mseqv\u001b[0m \u001b[1;33m=\u001b[0m \u001b[0min2\u001b[0m\u001b[1;33m\u001b[0m\u001b[1;33m\u001b[0m\u001b[0m\n\u001b[1;32m---> 45\u001b[1;33m         \u001b[1;32mfor\u001b[0m \u001b[0mi\u001b[0m \u001b[1;32min\u001b[0m \u001b[0min2f\u001b[0m\u001b[1;33m:\u001b[0m\u001b[1;33m\u001b[0m\u001b[1;33m\u001b[0m\u001b[0m\n\u001b[0m\u001b[0;32m     46\u001b[0m             \u001b[0mseqv\u001b[0m\u001b[1;33m.\u001b[0m\u001b[0mremove\u001b[0m\u001b[1;33m(\u001b[0m\u001b[0mi\u001b[0m\u001b[1;33m)\u001b[0m\u001b[1;33m\u001b[0m\u001b[1;33m\u001b[0m\u001b[0m\n\u001b[0;32m     47\u001b[0m         \u001b[1;32mfor\u001b[0m \u001b[0mi\u001b[0m \u001b[1;32min\u001b[0m \u001b[0min2b\u001b[0m\u001b[1;33m:\u001b[0m\u001b[1;33m\u001b[0m\u001b[1;33m\u001b[0m\u001b[0m\n",
      "\u001b[1;31mUnboundLocalError\u001b[0m: local variable 'in2f' referenced before assignment"
     ]
    }
   ],
   "source": [
    "r1 = ['rule', 1, ['my','_X', 'thinks', 'i', 'am', '_y'], ['Do you think you are', '_y', '?']]##\n",
    "r2 = ['rule', 2, ['S_X', 'thinks', 'i', 'am', '_y'], ['Do you think you are', '_y', '?']]\n",
    "r3 = ['rule', 3, ['i', 'feel', 'S_X'], ['Why do you think you feel', 'S_X', '?']]##\n",
    "r4 = ['rule', 4, ['_X', 'are', 'all', '_y'], ['In what way?']]##\n",
    "r5 = ['rule', 5, ['they', 'are', 'always', 'S_Z'], ['Can you think of a specific example?']]##\n",
    "r6 = ['rule', 6, ['my', '_X', 'made', 'me', 'S_X'], ['Your','_X', 'made you','S_X']]\n",
    "rule_lst = [r1, r2, r3, r4, r5, r6]\n",
    "\n",
    "print(apply_rules('hello world'.lower().split(), rule_lst))\n",
    "print(apply_rules('my dog made me happpy'.lower().split(), rule_lst))\n",
    "print(apply_rules('I feel cheerful and excited now'.lower().split(), rule_lst))"
   ]
  },
  {
   "cell_type": "markdown",
   "metadata": {
    "id": "EQW-mbJYuyqS"
   },
   "source": [
    "Expected Output:\n",
    "\n",
    "No rules appliable\n",
    "\n",
    "Your dog made you happpy\n",
    "\n",
    "Why do you think you feel cheerful and excited now ?"
   ]
  },
  {
   "cell_type": "markdown",
   "metadata": {
    "id": "VrHjzfn2fyzP"
   },
   "source": [
    "# Rules definition"
   ]
  },
  {
   "cell_type": "markdown",
   "metadata": {
    "id": "NYDsvOo3DTvy"
   },
   "source": [
    "You can define your transformation rules for your chatbot here. Feel free to add your own rules to the chatbot to make it more intelligent!"
   ]
  },
  {
   "cell_type": "code",
   "execution_count": null,
   "metadata": {
    "id": "rB398RkO96B2"
   },
   "outputs": [],
   "source": [
    "# r0 = ['rule', id, [pattern], [response]]\n",
    "\n",
    "r1 = ['rule', 1, ['my','_X', 'thinks', 'i', 'am', '_y'], ['Do you think you are', '_y', '?']]\n",
    "r2 = ['rule', 2, ['S_X', 'thinks', 'i', 'am', '_y'], ['Do you think you are', '_y', '?']]\n",
    "r3 = ['rule', 3, ['i', 'feel', 'S_X'], ['Why do you think you feel', 'S_X', '?']]\n",
    "r4 = ['rule', 4, ['_X', 'are', 'all', '_y'], ['In what way?']]\n",
    "r5 = ['rule', 5, ['they', 'are', 'always', 'S_Z'], ['Can you think of a specific example?']]\n",
    "r6 = ['rule', 6, ['my', '_X', 'made', 'me', 'S_X'], ['Your','_X', 'made you','S_X']]\n",
    "\n",
    "\n",
    "rule_lst = [r1, r2, r3, r4, r5, r6]"
   ]
  },
  {
   "cell_type": "markdown",
   "metadata": {
    "id": "H589_bRwrmCF"
   },
   "source": [
    "Try to transform any sentences with the rule list and the apply_rules() function defined above.\n",
    "\n",
    "Remember to convert all the letters into lowercase first using `.lower()` and split the sentence into a list using `.split()` ."
   ]
  },
  {
   "cell_type": "code",
   "execution_count": null,
   "metadata": {
    "id": "z1xsBfRTpP9q"
   },
   "outputs": [],
   "source": [
    "apply_rules()"
   ]
  },
  {
   "cell_type": "markdown",
   "metadata": {
    "id": "vMuv4lJhf16t"
   },
   "source": [
    "# Final exercise -- Eliza chatbot"
   ]
  },
  {
   "cell_type": "markdown",
   "metadata": {
    "id": "bt3LC1Oc6ANX"
   },
   "source": [
    "Finally, write the function for your Eliza chatbot, the function should take the rule list `rule_lst` as argument. \n",
    "\n",
    "The function should ask the user for the name first and greet the user using his/her name, then use a while loop to maintain a conversation. The while loop should be terminated when the `user_input` is \"stop\", otherwise use the `apply_rules()` function to generate a reply to the user given a `user_input`.\n",
    "\n",
    "\n",
    "Inside the function, you should define a list of default responses `default_responses`. If no rules are applicable, the chatbot should randomly pick a response from `default_responses` to reply the user, you can use `random.choice(default_responses)` to randomly pick the response.\n",
    "\n",
    "An example conversation with Eliza is given in the expected output below."
   ]
  },
  {
   "cell_type": "code",
   "execution_count": null,
   "metadata": {
    "id": "MefhvTPi-LxK"
   },
   "outputs": [],
   "source": [
    "def eliza(rule_lst):\n",
    "    default_responses = [\"Sorry I don't understand\", \"Tell me more\", \"Go on\"]\n",
    "\n"
   ]
  },
  {
   "cell_type": "markdown",
   "metadata": {
    "id": "dzEeU1pVDlCh"
   },
   "source": [
    "Call the \"eliza\" function to run the chatbot"
   ]
  },
  {
   "cell_type": "code",
   "execution_count": null,
   "metadata": {
    "id": "8scZxxrR-ME1"
   },
   "outputs": [],
   "source": [
    "eliza(rule_lst)"
   ]
  },
  {
   "cell_type": "markdown",
   "metadata": {
    "id": "BrNMEhY76ANY"
   },
   "source": [
    "Expected output:\n",
    "\n",
    "`Please sign in with your first name: Mary\n",
    "Hello, Mary. This is Eliza. What do you want to talk about today?\n",
    "Men are all alike\n",
    "In what way?\n",
    "They are always bugging us about something or other\n",
    "Can you think of a specific example?\n",
    "My boyfriend made me come here\n",
    "Your boyfriend made you come here\n",
    "errrr.....\n",
    "Tell me more\n",
    "errrr.....\n",
    "Sorry I don't understand\n",
    "errr......\n",
    "Go on\n",
    "stop\n",
    "Goodbye!`\n",
    "\n"
   ]
  },
  {
   "cell_type": "code",
   "execution_count": null,
   "metadata": {
    "id": "JCpOle_U-vGd"
   },
   "outputs": [],
   "source": []
  }
 ],
 "metadata": {
  "colab": {
   "collapsed_sections": [],
   "name": "Eliza_chatbot(student_version).ipynb",
   "provenance": []
  },
  "kernelspec": {
   "display_name": "Python 3 (ipykernel)",
   "language": "python",
   "name": "python3"
  },
  "language_info": {
   "codemirror_mode": {
    "name": "ipython",
    "version": 3
   },
   "file_extension": ".py",
   "mimetype": "text/x-python",
   "name": "python",
   "nbconvert_exporter": "python",
   "pygments_lexer": "ipython3",
   "version": "3.9.7"
  }
 },
 "nbformat": 4,
 "nbformat_minor": 1
}
